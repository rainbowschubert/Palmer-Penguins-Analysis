{
 "cells": [
  {
   "cell_type": "markdown",
   "metadata": {},
   "source": [
    "# Palmer Penguins Analysis\n",
    "> By Joy Lee and Alex Shih\n",
    "\n",
    "Our goal in this mini project is to determine a small set of measurements that are highly predictive of a penguin’s species and to use those measurements to construct some machine learning models. We will be working with the Palmer Penguins data set which contains measurements on three penguin species: Chinstrap, Gentoo, and Adelie."
   ]
  },
  {
   "cell_type": "markdown",
   "metadata": {},
   "source": [
    "# 1. Group Contributions Statement"
   ]
  },
  {
   "cell_type": "markdown",
   "metadata": {},
   "source": [
    ">The two of us wrote the data acquisition and preparation portions together. Joy led Figure 1, wrote the explanations for each figure included in the explanatory analyses, led the Support Vector Machine Model and wrote the confusion matrices for each model. Alex wrote Figure 2, the table included in exploratory analysis, and the Logistic Regression model. Joy wrote the code to print out the training and test scores included in the Discussion and Alex wrote recommendations on how to improve our models. We worked on the plot_regions function and the cross validation score portions together. We also checked each other’s work and made revisions to code and writing."
   ]
  },
  {
   "cell_type": "markdown",
   "metadata": {},
   "source": [
    "# 2. Data Import and Cleaning"
   ]
  },
  {
   "cell_type": "markdown",
   "metadata": {},
   "source": [
    "#### Some Standard Imports"
   ]
  },
  {
   "cell_type": "code",
   "execution_count": 1,
   "metadata": {},
   "outputs": [],
   "source": [
    "import numpy as np\n",
    "from matplotlib import pyplot as plt\n",
    "import matplotlib.patches as mpatches\n",
    "import pandas as pd\n",
    "import seaborn as sns"
   ]
  },
  {
   "cell_type": "markdown",
   "metadata": {},
   "source": [
    "#### Getting the Data and Examining It"
   ]
  },
  {
   "cell_type": "code",
   "execution_count": 2,
   "metadata": {},
   "outputs": [
    {
     "data": {
      "text/html": [
       "<div>\n",
       "<style scoped>\n",
       "    .dataframe tbody tr th:only-of-type {\n",
       "        vertical-align: middle;\n",
       "    }\n",
       "\n",
       "    .dataframe tbody tr th {\n",
       "        vertical-align: top;\n",
       "    }\n",
       "\n",
       "    .dataframe thead th {\n",
       "        text-align: right;\n",
       "    }\n",
       "</style>\n",
       "<table border=\"1\" class=\"dataframe\">\n",
       "  <thead>\n",
       "    <tr style=\"text-align: right;\">\n",
       "      <th></th>\n",
       "      <th>studyName</th>\n",
       "      <th>Sample Number</th>\n",
       "      <th>Species</th>\n",
       "      <th>Region</th>\n",
       "      <th>Island</th>\n",
       "      <th>Stage</th>\n",
       "      <th>Individual ID</th>\n",
       "      <th>Clutch Completion</th>\n",
       "      <th>Date Egg</th>\n",
       "      <th>Culmen Length (mm)</th>\n",
       "      <th>Culmen Depth (mm)</th>\n",
       "      <th>Flipper Length (mm)</th>\n",
       "      <th>Body Mass (g)</th>\n",
       "      <th>Sex</th>\n",
       "      <th>Delta 15 N (o/oo)</th>\n",
       "      <th>Delta 13 C (o/oo)</th>\n",
       "      <th>Comments</th>\n",
       "    </tr>\n",
       "  </thead>\n",
       "  <tbody>\n",
       "    <tr>\n",
       "      <th>0</th>\n",
       "      <td>PAL0708</td>\n",
       "      <td>1</td>\n",
       "      <td>Adelie Penguin (Pygoscelis adeliae)</td>\n",
       "      <td>Anvers</td>\n",
       "      <td>Torgersen</td>\n",
       "      <td>Adult, 1 Egg Stage</td>\n",
       "      <td>N1A1</td>\n",
       "      <td>Yes</td>\n",
       "      <td>11/11/07</td>\n",
       "      <td>39.1</td>\n",
       "      <td>18.7</td>\n",
       "      <td>181.0</td>\n",
       "      <td>3750.0</td>\n",
       "      <td>MALE</td>\n",
       "      <td>NaN</td>\n",
       "      <td>NaN</td>\n",
       "      <td>Not enough blood for isotopes.</td>\n",
       "    </tr>\n",
       "    <tr>\n",
       "      <th>1</th>\n",
       "      <td>PAL0708</td>\n",
       "      <td>2</td>\n",
       "      <td>Adelie Penguin (Pygoscelis adeliae)</td>\n",
       "      <td>Anvers</td>\n",
       "      <td>Torgersen</td>\n",
       "      <td>Adult, 1 Egg Stage</td>\n",
       "      <td>N1A2</td>\n",
       "      <td>Yes</td>\n",
       "      <td>11/11/07</td>\n",
       "      <td>39.5</td>\n",
       "      <td>17.4</td>\n",
       "      <td>186.0</td>\n",
       "      <td>3800.0</td>\n",
       "      <td>FEMALE</td>\n",
       "      <td>8.94956</td>\n",
       "      <td>-24.69454</td>\n",
       "      <td>NaN</td>\n",
       "    </tr>\n",
       "    <tr>\n",
       "      <th>2</th>\n",
       "      <td>PAL0708</td>\n",
       "      <td>3</td>\n",
       "      <td>Adelie Penguin (Pygoscelis adeliae)</td>\n",
       "      <td>Anvers</td>\n",
       "      <td>Torgersen</td>\n",
       "      <td>Adult, 1 Egg Stage</td>\n",
       "      <td>N2A1</td>\n",
       "      <td>Yes</td>\n",
       "      <td>11/16/07</td>\n",
       "      <td>40.3</td>\n",
       "      <td>18.0</td>\n",
       "      <td>195.0</td>\n",
       "      <td>3250.0</td>\n",
       "      <td>FEMALE</td>\n",
       "      <td>8.36821</td>\n",
       "      <td>-25.33302</td>\n",
       "      <td>NaN</td>\n",
       "    </tr>\n",
       "    <tr>\n",
       "      <th>3</th>\n",
       "      <td>PAL0708</td>\n",
       "      <td>4</td>\n",
       "      <td>Adelie Penguin (Pygoscelis adeliae)</td>\n",
       "      <td>Anvers</td>\n",
       "      <td>Torgersen</td>\n",
       "      <td>Adult, 1 Egg Stage</td>\n",
       "      <td>N2A2</td>\n",
       "      <td>Yes</td>\n",
       "      <td>11/16/07</td>\n",
       "      <td>NaN</td>\n",
       "      <td>NaN</td>\n",
       "      <td>NaN</td>\n",
       "      <td>NaN</td>\n",
       "      <td>NaN</td>\n",
       "      <td>NaN</td>\n",
       "      <td>NaN</td>\n",
       "      <td>Adult not sampled.</td>\n",
       "    </tr>\n",
       "    <tr>\n",
       "      <th>4</th>\n",
       "      <td>PAL0708</td>\n",
       "      <td>5</td>\n",
       "      <td>Adelie Penguin (Pygoscelis adeliae)</td>\n",
       "      <td>Anvers</td>\n",
       "      <td>Torgersen</td>\n",
       "      <td>Adult, 1 Egg Stage</td>\n",
       "      <td>N3A1</td>\n",
       "      <td>Yes</td>\n",
       "      <td>11/16/07</td>\n",
       "      <td>36.7</td>\n",
       "      <td>19.3</td>\n",
       "      <td>193.0</td>\n",
       "      <td>3450.0</td>\n",
       "      <td>FEMALE</td>\n",
       "      <td>8.76651</td>\n",
       "      <td>-25.32426</td>\n",
       "      <td>NaN</td>\n",
       "    </tr>\n",
       "    <tr>\n",
       "      <th>...</th>\n",
       "      <td>...</td>\n",
       "      <td>...</td>\n",
       "      <td>...</td>\n",
       "      <td>...</td>\n",
       "      <td>...</td>\n",
       "      <td>...</td>\n",
       "      <td>...</td>\n",
       "      <td>...</td>\n",
       "      <td>...</td>\n",
       "      <td>...</td>\n",
       "      <td>...</td>\n",
       "      <td>...</td>\n",
       "      <td>...</td>\n",
       "      <td>...</td>\n",
       "      <td>...</td>\n",
       "      <td>...</td>\n",
       "      <td>...</td>\n",
       "    </tr>\n",
       "    <tr>\n",
       "      <th>339</th>\n",
       "      <td>PAL0910</td>\n",
       "      <td>120</td>\n",
       "      <td>Gentoo penguin (Pygoscelis papua)</td>\n",
       "      <td>Anvers</td>\n",
       "      <td>Biscoe</td>\n",
       "      <td>Adult, 1 Egg Stage</td>\n",
       "      <td>N38A2</td>\n",
       "      <td>No</td>\n",
       "      <td>12/1/09</td>\n",
       "      <td>NaN</td>\n",
       "      <td>NaN</td>\n",
       "      <td>NaN</td>\n",
       "      <td>NaN</td>\n",
       "      <td>NaN</td>\n",
       "      <td>NaN</td>\n",
       "      <td>NaN</td>\n",
       "      <td>NaN</td>\n",
       "    </tr>\n",
       "    <tr>\n",
       "      <th>340</th>\n",
       "      <td>PAL0910</td>\n",
       "      <td>121</td>\n",
       "      <td>Gentoo penguin (Pygoscelis papua)</td>\n",
       "      <td>Anvers</td>\n",
       "      <td>Biscoe</td>\n",
       "      <td>Adult, 1 Egg Stage</td>\n",
       "      <td>N39A1</td>\n",
       "      <td>Yes</td>\n",
       "      <td>11/22/09</td>\n",
       "      <td>46.8</td>\n",
       "      <td>14.3</td>\n",
       "      <td>215.0</td>\n",
       "      <td>4850.0</td>\n",
       "      <td>FEMALE</td>\n",
       "      <td>8.41151</td>\n",
       "      <td>-26.13832</td>\n",
       "      <td>NaN</td>\n",
       "    </tr>\n",
       "    <tr>\n",
       "      <th>341</th>\n",
       "      <td>PAL0910</td>\n",
       "      <td>122</td>\n",
       "      <td>Gentoo penguin (Pygoscelis papua)</td>\n",
       "      <td>Anvers</td>\n",
       "      <td>Biscoe</td>\n",
       "      <td>Adult, 1 Egg Stage</td>\n",
       "      <td>N39A2</td>\n",
       "      <td>Yes</td>\n",
       "      <td>11/22/09</td>\n",
       "      <td>50.4</td>\n",
       "      <td>15.7</td>\n",
       "      <td>222.0</td>\n",
       "      <td>5750.0</td>\n",
       "      <td>MALE</td>\n",
       "      <td>8.30166</td>\n",
       "      <td>-26.04117</td>\n",
       "      <td>NaN</td>\n",
       "    </tr>\n",
       "    <tr>\n",
       "      <th>342</th>\n",
       "      <td>PAL0910</td>\n",
       "      <td>123</td>\n",
       "      <td>Gentoo penguin (Pygoscelis papua)</td>\n",
       "      <td>Anvers</td>\n",
       "      <td>Biscoe</td>\n",
       "      <td>Adult, 1 Egg Stage</td>\n",
       "      <td>N43A1</td>\n",
       "      <td>Yes</td>\n",
       "      <td>11/22/09</td>\n",
       "      <td>45.2</td>\n",
       "      <td>14.8</td>\n",
       "      <td>212.0</td>\n",
       "      <td>5200.0</td>\n",
       "      <td>FEMALE</td>\n",
       "      <td>8.24246</td>\n",
       "      <td>-26.11969</td>\n",
       "      <td>NaN</td>\n",
       "    </tr>\n",
       "    <tr>\n",
       "      <th>343</th>\n",
       "      <td>PAL0910</td>\n",
       "      <td>124</td>\n",
       "      <td>Gentoo penguin (Pygoscelis papua)</td>\n",
       "      <td>Anvers</td>\n",
       "      <td>Biscoe</td>\n",
       "      <td>Adult, 1 Egg Stage</td>\n",
       "      <td>N43A2</td>\n",
       "      <td>Yes</td>\n",
       "      <td>11/22/09</td>\n",
       "      <td>49.9</td>\n",
       "      <td>16.1</td>\n",
       "      <td>213.0</td>\n",
       "      <td>5400.0</td>\n",
       "      <td>MALE</td>\n",
       "      <td>8.36390</td>\n",
       "      <td>-26.15531</td>\n",
       "      <td>NaN</td>\n",
       "    </tr>\n",
       "  </tbody>\n",
       "</table>\n",
       "<p>344 rows × 17 columns</p>\n",
       "</div>"
      ],
      "text/plain": [
       "    studyName  Sample Number                              Species  Region  \\\n",
       "0     PAL0708              1  Adelie Penguin (Pygoscelis adeliae)  Anvers   \n",
       "1     PAL0708              2  Adelie Penguin (Pygoscelis adeliae)  Anvers   \n",
       "2     PAL0708              3  Adelie Penguin (Pygoscelis adeliae)  Anvers   \n",
       "3     PAL0708              4  Adelie Penguin (Pygoscelis adeliae)  Anvers   \n",
       "4     PAL0708              5  Adelie Penguin (Pygoscelis adeliae)  Anvers   \n",
       "..        ...            ...                                  ...     ...   \n",
       "339   PAL0910            120    Gentoo penguin (Pygoscelis papua)  Anvers   \n",
       "340   PAL0910            121    Gentoo penguin (Pygoscelis papua)  Anvers   \n",
       "341   PAL0910            122    Gentoo penguin (Pygoscelis papua)  Anvers   \n",
       "342   PAL0910            123    Gentoo penguin (Pygoscelis papua)  Anvers   \n",
       "343   PAL0910            124    Gentoo penguin (Pygoscelis papua)  Anvers   \n",
       "\n",
       "        Island               Stage Individual ID Clutch Completion  Date Egg  \\\n",
       "0    Torgersen  Adult, 1 Egg Stage          N1A1               Yes  11/11/07   \n",
       "1    Torgersen  Adult, 1 Egg Stage          N1A2               Yes  11/11/07   \n",
       "2    Torgersen  Adult, 1 Egg Stage          N2A1               Yes  11/16/07   \n",
       "3    Torgersen  Adult, 1 Egg Stage          N2A2               Yes  11/16/07   \n",
       "4    Torgersen  Adult, 1 Egg Stage          N3A1               Yes  11/16/07   \n",
       "..         ...                 ...           ...               ...       ...   \n",
       "339     Biscoe  Adult, 1 Egg Stage         N38A2                No   12/1/09   \n",
       "340     Biscoe  Adult, 1 Egg Stage         N39A1               Yes  11/22/09   \n",
       "341     Biscoe  Adult, 1 Egg Stage         N39A2               Yes  11/22/09   \n",
       "342     Biscoe  Adult, 1 Egg Stage         N43A1               Yes  11/22/09   \n",
       "343     Biscoe  Adult, 1 Egg Stage         N43A2               Yes  11/22/09   \n",
       "\n",
       "     Culmen Length (mm)  Culmen Depth (mm)  Flipper Length (mm)  \\\n",
       "0                  39.1               18.7                181.0   \n",
       "1                  39.5               17.4                186.0   \n",
       "2                  40.3               18.0                195.0   \n",
       "3                   NaN                NaN                  NaN   \n",
       "4                  36.7               19.3                193.0   \n",
       "..                  ...                ...                  ...   \n",
       "339                 NaN                NaN                  NaN   \n",
       "340                46.8               14.3                215.0   \n",
       "341                50.4               15.7                222.0   \n",
       "342                45.2               14.8                212.0   \n",
       "343                49.9               16.1                213.0   \n",
       "\n",
       "     Body Mass (g)     Sex  Delta 15 N (o/oo)  Delta 13 C (o/oo)  \\\n",
       "0           3750.0    MALE                NaN                NaN   \n",
       "1           3800.0  FEMALE            8.94956          -24.69454   \n",
       "2           3250.0  FEMALE            8.36821          -25.33302   \n",
       "3              NaN     NaN                NaN                NaN   \n",
       "4           3450.0  FEMALE            8.76651          -25.32426   \n",
       "..             ...     ...                ...                ...   \n",
       "339            NaN     NaN                NaN                NaN   \n",
       "340         4850.0  FEMALE            8.41151          -26.13832   \n",
       "341         5750.0    MALE            8.30166          -26.04117   \n",
       "342         5200.0  FEMALE            8.24246          -26.11969   \n",
       "343         5400.0    MALE            8.36390          -26.15531   \n",
       "\n",
       "                           Comments  \n",
       "0    Not enough blood for isotopes.  \n",
       "1                               NaN  \n",
       "2                               NaN  \n",
       "3                Adult not sampled.  \n",
       "4                               NaN  \n",
       "..                              ...  \n",
       "339                             NaN  \n",
       "340                             NaN  \n",
       "341                             NaN  \n",
       "342                             NaN  \n",
       "343                             NaN  \n",
       "\n",
       "[344 rows x 17 columns]"
      ]
     },
     "execution_count": 2,
     "metadata": {},
     "output_type": "execute_result"
    }
   ],
   "source": [
    "url = \"https://philchodrow.github.io/PIC16A/datasets/palmer_penguins.csv\"\n",
    "penguins = pd.read_csv(url)\n",
    "penguins"
   ]
  },
  {
   "cell_type": "markdown",
   "metadata": {},
   "source": [
    "#### Split the Data into Training and Testing Sets"
   ]
  },
  {
   "cell_type": "code",
   "execution_count": 3,
   "metadata": {},
   "outputs": [],
   "source": [
    "from sklearn.model_selection import train_test_split\n",
    "\n",
    "#splitting the data set\n",
    "penguins = penguins[[\"Flipper Length (mm)\", \"Culmen Length (mm)\", \"Island\", \"Species\"]].dropna()\n",
    "X=penguins[[\"Flipper Length (mm)\", \"Culmen Length (mm)\", \"Island\"]]\n",
    "y=penguins[\"Species\"]\n",
    "\n",
    "#80% of the data will be used for training and 20% for testing\n",
    "X_train,X_test,y_train,y_test=train_test_split(X,y,test_size=.2)"
   ]
  },
  {
   "cell_type": "markdown",
   "metadata": {},
   "source": [
    "#### Cleaning"
   ]
  },
   ],
   "source": [
    "from sklearn import preprocessing\n",
    "le=preprocessing.LabelEncoder()\n",
    "\n",
    "#changing species names to numbers\n",
    "y_train=le.fit_transform(y_train)\n",
    "y_test=le.fit_transform(y_test)   \n",
    "\n",
    "#change Island names to numerical values\n",
    "X_train[\"Island\"]=le.fit_transform(X_train[\"Island\"])\n",
    "X_test[\"Island\"]=le.fit_transform(X_test[\"Island\"])"
   ]
  },
  {
   "cell_type": "markdown",
   "metadata": {},
   "source": [
    "# 3. Exploratory Analysis\n",
    "\n",
    "In this section we will compute summary statistics and construct visualizations about the relationships between different variables from the penguins data set. Includes 2 figures and 1 table."
   ]
  },
  {
   "cell_type": "markdown",
   "metadata": {},
   "source": [
    "## Figure 1. Scatterplot\n",
    "\n",
    "Next we will use a scatterplot to visualize the relationship between Culmen Length and Flipper Length for penguins of different species."
   ]
  },
  {
   "cell_type": "code",
   "execution_count": 5,
   "metadata": {},
   "outputs": [
    {
     "data": {
      "text/plain": [
       "<matplotlib.legend.Legend at 0x208ecfb1be0>"
      ]
     },
     "execution_count": 5,
     "metadata": {},
     "output_type": "execute_result"
    },
    {
     "data": {
      "image/png": "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\n",
      "text/plain": [
       "<Figure size 432x288 with 1 Axes>"
      ]
     },
     "metadata": {
      "needs_background": "light"
     },
     "output_type": "display_data"
    }
   ],
   "source": [
    "fig,ax = plt.subplots(1)\n",
    "ax.set(xlabel=\"Flipper Length (mm)\",\n",
    "       ylabel=\"Culmen Length (mm)\",\n",
    "       title=\"Culmen Length v. Flipper Length by Species\")\n",
    "\n",
    "penguins[\"Species\"]=penguins[\"Species\"].str.split().str.get(0)\n",
    "uniqueSpecies=set(penguins[\"Species\"])\n",
    "\n",
    "for x in uniqueSpecies: \n",
    "    test = penguins[penguins[\"Species\"]==x]\n",
    "    ax.scatter(test[\"Flipper Length (mm)\"],\n",
    "               test[\"Culmen Length (mm)\"], \n",
    "               alpha = 0.5, \n",
    "               label = x)\n",
    "ax.legend()"
   ]
  },
  {
   "cell_type": "markdown",
   "metadata": {},
   "source": [
    "### Discussion of figure 1:\n",
    "\n",
    "From our scatterplot, we can see distinct clusters of Gentoo, Chinstrap, Adelie penguins when grouped by culmen length and flipper length. Gentoo penguins tend to have longer flippers and mid-sized culmens, Adelie penguins seem to have the shortest flippers and culmens while Chinstraps have mid-length flippers and similar culmen lengths to Gentoo penguins. These distinctions suggest we may want to use these the culmen length and flipper length features as predictor variables for our models. \n",
    "\n",
    "Now that we have identified some distinctions when grouped by species, let's explore further differences when the species are grouped by island. "
   ]
  },
  {
   "cell_type": "markdown",
   "metadata": {},
   "source": [
    "## Figure 2. Faceted Histogram\n",
    "\n",
    "Let’s make another figure with multiple axes to visualize the Culmen Lengths of different species where we split up the plots by species AND island. "
   ]
  },
  {
   "cell_type": "code",
   "execution_count": 6,
   "metadata": {},
   "outputs": [
    {
     "data": {
      "image/png": "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\n",
      "text/plain": [
       "<Figure size 732.625x648 with 9 Axes>"
      ]
     },
     "metadata": {
      "needs_background": "light"
     },
     "output_type": "display_data"
    }
   ],
   "source": [
    "#histogram, body mass of each penguin grouped by island and species\n",
    "penguins[\"Species\"] = penguins[\"Species\"].str.split().str.get(0)\n",
    "plot=sns.displot(penguins, \n",
    "                 x=\"Culmen Length (mm)\", \n",
    "                 col=\"Island\", \n",
    "                 row=\"Species\", \n",
    "                 hue = \"Island\", \n",
    "                 facet_kws=dict(margin_titles=True),\n",
    "                 height = 3)"
   ]
  },
  {
   "cell_type": "markdown",
   "metadata": {},
   "source": [
    "### Discusion of figure 2:\n",
    "\n",
    "From these plots, it seems like Adelie penguins have the shortest culmen's regardless of which Island they are on. The Gentoo penguins on Biscoe island have longer culmen lengths than the Adelie on Biscoe and similarly, Chinstraps on Dream Island have longer culmens than the Adelie on Dream Island. \n",
    "\n",
    "This faceted histogram help us visualize the differences between species on separate islands more clearly. In particular, if we had grouped by only islands, it would have been more difficult to discern that it is the Adelie specifically whom have short culmens. We can also note that Gentoo penguins only exist on Biscoe Island and Chinstraps only exist on Dream."
   ]
  },
  {
   "cell_type": "markdown",
   "metadata": {},
   "source": [
    "## Table\n",
    "\n",
    "Here we have summary statistics on the culmen length's of penguins from the dataset.\n",
    "We used `df.groupby()` to summarize data across the qualitative Island and Species."
   ]
  },
  {
   "cell_type": "code",
   "execution_count": 7,
   "metadata": {},
   "outputs": [
    {
     "data": {
      "text/html": [
       "<div>\n",
       "<style scoped>\n",
       "    .dataframe tbody tr th:only-of-type {\n",
       "        vertical-align: middle;\n",
       "    }\n",
       "\n",
       "    .dataframe tbody tr th {\n",
       "        vertical-align: top;\n",
       "    }\n",
       "\n",
       "    .dataframe thead tr th {\n",
       "        text-align: left;\n",
       "    }\n",
       "\n",
       "    .dataframe thead tr:last-of-type th {\n",
       "        text-align: right;\n",
       "    }\n",
       "</style>\n",
       "<table border=\"1\" class=\"dataframe\">\n",
       "  <thead>\n",
       "    <tr>\n",
       "      <th></th>\n",
       "      <th></th>\n",
       "      <th colspan=\"8\" halign=\"left\">Culmen Length (mm)</th>\n",
       "    </tr>\n",
       "    <tr>\n",
       "      <th></th>\n",
       "      <th></th>\n",
       "      <th>count</th>\n",
       "      <th>mean</th>\n",
       "      <th>std</th>\n",
       "      <th>min</th>\n",
       "      <th>25%</th>\n",
       "      <th>50%</th>\n",
       "      <th>75%</th>\n",
       "      <th>max</th>\n",
       "    </tr>\n",
       "    <tr>\n",
       "      <th>Island</th>\n",
       "      <th>Species</th>\n",
       "      <th></th>\n",
       "      <th></th>\n",
       "      <th></th>\n",
       "      <th></th>\n",
       "      <th></th>\n",
       "      <th></th>\n",
       "      <th></th>\n",
       "      <th></th>\n",
       "    </tr>\n",
       "  </thead>\n",
       "  <tbody>\n",
       "    <tr>\n",
       "      <th rowspan=\"2\" valign=\"top\">Biscoe</th>\n",
       "      <th>Adelie</th>\n",
       "      <td>44.0</td>\n",
       "      <td>38.975000</td>\n",
       "      <td>2.480916</td>\n",
       "      <td>34.5</td>\n",
       "      <td>37.675</td>\n",
       "      <td>38.70</td>\n",
       "      <td>40.700</td>\n",
       "      <td>45.6</td>\n",
       "    </tr>\n",
       "    <tr>\n",
       "      <th>Gentoo</th>\n",
       "      <td>123.0</td>\n",
       "      <td>47.504878</td>\n",
       "      <td>3.081857</td>\n",
       "      <td>40.9</td>\n",
       "      <td>45.300</td>\n",
       "      <td>47.30</td>\n",
       "      <td>49.550</td>\n",
       "      <td>59.6</td>\n",
       "    </tr>\n",
       "    <tr>\n",
       "      <th rowspan=\"2\" valign=\"top\">Dream</th>\n",
       "      <th>Adelie</th>\n",
       "      <td>56.0</td>\n",
       "      <td>38.501786</td>\n",
       "      <td>2.465359</td>\n",
       "      <td>32.1</td>\n",
       "      <td>36.750</td>\n",
       "      <td>38.55</td>\n",
       "      <td>40.375</td>\n",
       "      <td>44.1</td>\n",
       "    </tr>\n",
       "    <tr>\n",
       "      <th>Chinstrap</th>\n",
       "      <td>68.0</td>\n",
       "      <td>48.833824</td>\n",
       "      <td>3.339256</td>\n",
       "      <td>40.9</td>\n",
       "      <td>46.350</td>\n",
       "      <td>49.55</td>\n",
       "      <td>51.075</td>\n",
       "      <td>58.0</td>\n",
       "    </tr>\n",
       "    <tr>\n",
       "      <th>Torgersen</th>\n",
       "      <th>Adelie</th>\n",
       "      <td>51.0</td>\n",
       "      <td>38.950980</td>\n",
       "      <td>3.025318</td>\n",
       "      <td>33.5</td>\n",
       "      <td>36.650</td>\n",
       "      <td>38.90</td>\n",
       "      <td>41.100</td>\n",
       "      <td>46.0</td>\n",
       "    </tr>\n",
       "  </tbody>\n",
       "</table>\n",
       "</div>"
      ],
      "text/plain": [
       "                    Culmen Length (mm)                                     \\\n",
       "                                 count       mean       std   min     25%   \n",
       "Island    Species                                                           \n",
       "Biscoe    Adelie                  44.0  38.975000  2.480916  34.5  37.675   \n",
       "          Gentoo                 123.0  47.504878  3.081857  40.9  45.300   \n",
       "Dream     Adelie                  56.0  38.501786  2.465359  32.1  36.750   \n",
       "          Chinstrap               68.0  48.833824  3.339256  40.9  46.350   \n",
       "Torgersen Adelie                  51.0  38.950980  3.025318  33.5  36.650   \n",
       "\n",
       "                                          \n",
       "                       50%     75%   max  \n",
       "Island    Species                         \n",
       "Biscoe    Adelie     38.70  40.700  45.6  \n",
       "          Gentoo     47.30  49.550  59.6  \n",
       "Dream     Adelie     38.55  40.375  44.1  \n",
       "          Chinstrap  49.55  51.075  58.0  \n",
       "Torgersen Adelie     38.90  41.100  46.0  "
      ]
     },
     "execution_count": 7,
     "metadata": {},
     "output_type": "execute_result"
    }
   ],
   "source": [
    "penguins[[\"Culmen Length (mm)\", \"Island\", \"Species\"]].groupby([\"Island\", \"Species\"]).describe()"
   ]
  },
  {
   "cell_type": "markdown",
   "metadata": {},
   "source": [
    "### Discussion of Table:\n",
    "\n",
    "This table matches our histogram from above and shows us that Adelie penguins live on all three Islands while Gentoo penguins only live on Biscoe Island and Chinstraps only live on Dream Island.\n",
    "\n",
    "These statistic summaries also show us that Adelie penguins have average culmen lengths of around 38-39 (mm) and Gentoo and Chinstraps have average culmen lengths of 47-49 (mm). This gives us a quantitative value we can use to distinguish Adelie penguins. Although Gentoo and Chinstraps have similar culmen lengths, since we know that they exist on separate islands, we can use that information to distinguish between them."
   ]
  },
  {
   "cell_type": "markdown",
   "metadata": {},
   "source": [
    "# 4. Feature Selection\n",
    "**Choosing Quantitative Variables**\n",
    "   \n",
    "Based on the exploratory analysis, the faceted histogram and summary table show that Adelie penguins have significantly shorter culmen lengths than Gentoo and Chinstrap penguins which makes **culmen length** a good quantitave predictor variable. Additionally, flipper length and culmen length seem to have a positive correlation with one another which is evident from the clusters in our scatterplot. These clusters indicate that penguins of the same species tend to have similar ratios for flipper and culmen lengths. Therefore we will choose **flipper length** as our second quantitative predictor variable. \n",
    "\n",
    "**Choosing a Qualitative Variable**\n",
    "\n",
    "The faceted histogram and table show us that not all penguins exist on every island. Thus if we choose **island** as our qualitative feature, our models can more easily use culmen length and flipper length to predict the correct species. \n",
    "\n",
    "Now that we have chosen culmen length, flipper length, and Island as our predictor variables, let's train some models!"
   ]
  },
  {
   "cell_type": "markdown",
   "metadata": {},
   "source": [
    "# 5. Modeling\n",
    "\n",
    "This section uses the training and testing data from Part 2 to train machine learning models on how to predict a penguin's species given the 3 predictor variables we chose in Part 4. Then we will evaluate the models on their performance using tools such as cross-validation to choose complexity parameters, confusion matrices, and visualizations of decision regions. We will also discuss the mistakes made by each model and factors that may have contributed to those mistakes. "
   ]
  },
  {
   "cell_type": "markdown",
   "metadata": {},
   "source": [
    "### A Function to Visualize our Model's Decision Regions"
   ]
  },
  {
   "cell_type": "code",
   "execution_count": 8,
   "metadata": {},
   "outputs": [],
   "source": [
    "def plot_regions(c,X,y):\n",
    "    \"\"\"\n",
    "    Plot regions is a function that takes 3 arguments: c, an object from \n",
    "    the model class in the sklearn library and two dataframes X,y. \n",
    "    X contains our predictor variables and y has our target variable. \n",
    "    This function will then train a user-specified model type on a subset \n",
    "    of X and y to output a figure with the model's predictions. \n",
    "    \"\"\"\n",
    "    #train model on WHOLE data set with our chosen quantitative features \n",
    "    c.fit(X[[\"Flipper Length (mm)\",\"Culmen Length (mm)\"]],y)\n",
    "\n",
    "    x0=X[\"Flipper Length (mm)\"]\n",
    "    x1=X[\"Culmen Length (mm)\"]\n",
    "\n",
    "    grid_x=np.linspace(x0.min(),x0.max(),501) \n",
    "    grid_y=np.linspace(x1.min(),x1.max(),501) \n",
    "\n",
    "    xx,yy=np.meshgrid(grid_x,grid_y)\n",
    "    np.shape(xx),np.shape(yy)\n",
    "\n",
    "    XX=xx.ravel()\n",
    "    YY=yy.ravel()\n",
    "\n",
    "    p=c.predict(np.c_[XX,YY])\n",
    "    \n",
    "    p=p.reshape(xx.shape)\n",
    "    \n",
    "    #create figure, one plot for each Island\n",
    "    fig,ax=plt.subplots(1,3, figsize=(12,4))\n",
    "    plt.tight_layout()\n",
    "    \n",
    "    #dict to get island titles\n",
    "    islands={0:\"Biscoe\", 1:\"Dream\", 2:\"Torgersen\"}\n",
    "   \n",
    "    #dict for penguins names\n",
    "    species={0:\"Adelie\", 1:\"Chinstrap\", 2:\"Gentoo\"}\n",
    "    \n",
    "    #dict to assign distinct colors for each species\n",
    "    colors={0:\"blue\", 1:\"limegreen\", 2:\"firebrick\"}\n",
    "    \n",
    "    uniqueIsland=X[\"Island\"].unique()\n",
    "    \n",
    "    for i in range(3): \n",
    "        #plot decision regions\n",
    "        ax[i].contourf(xx,yy,p,cmap=\"jet\",alpha=.2)\n",
    "        \n",
    "        #plot penguin points\n",
    "        ax[i].scatter(x0[X[\"Island\"] == uniqueIsland[i]],\n",
    "                      x1[X[\"Island\"] == uniqueIsland[i]],\n",
    "                      c=[colors[i] for i in y[X[\"Island\"] == uniqueIsland[i]]],\n",
    "                      cmap=\"jet\",\n",
    "                      label=[species[i] for i in y[X[\"Island\"] == uniqueIsland[i]]])\n",
    "        \n",
    "        #label each plot with titles, axes and a legend\n",
    "        ax[i].set(title=islands[uniqueIsland[i]])\n",
    "        ax[i].set(xlabel=\"Flipper Length (mm)\",ylabel=\"Culmen Length (mm)\")\n",
    "    \n",
    "        patches=[mpatches.Patch(color=colors[key],label=species[key]) for key in colors]\n",
    "        fig.legend(handles=patches, bbox_to_anchor=(1.1,.6))\n"
   ]
  },
  {
   "cell_type": "markdown",
   "metadata": {},
   "source": [
    "## Model 1. Logistic Regression"
   ]
  },
  {
   "cell_type": "code",
   "execution_count": 9,
   "metadata": {},
   "outputs": [],
   "source": [
    "from sklearn.linear_model import LogisticRegression"
   ]
  },
  {
   "cell_type": "markdown",
   "metadata": {},
   "source": [
    "### First perform cross-validation to choose the best complexity parameter for our Logistic model."
   ]
  },
  {
   "cell_type": "code",
   "execution_count": 10,
   "metadata": {},
   "outputs": [
    {
     "name": "stderr",
     "output_type": "stream",
     "text": [
      "C:\\Users\\ashih\\anaconda3\\lib\\site-packages\\sklearn\\linear_model\\_logistic.py:762: ConvergenceWarning: lbfgs failed to converge (status=1):\n",
      "STOP: TOTAL NO. of ITERATIONS REACHED LIMIT.\n",
      "\n",
      "Increase the number of iterations (max_iter) or scale the data as shown in:\n",
      "    https://scikit-learn.org/stable/modules/preprocessing.html\n",
      "Please also refer to the documentation for alternative solver options:\n",
      "    https://scikit-learn.org/stable/modules/linear_model.html#logistic-regression\n",
      "  n_iter_i = _check_optimize_result(\n",
      "C:\\Users\\ashih\\anaconda3\\lib\\site-packages\\sklearn\\linear_model\\_logistic.py:762: ConvergenceWarning: lbfgs failed to converge (status=1):\n",
      "STOP: TOTAL NO. of ITERATIONS REACHED LIMIT.\n",
      "\n",
      "Increase the number of iterations (max_iter) or scale the data as shown in:\n",
      "    https://scikit-learn.org/stable/modules/preprocessing.html\n",
      "Please also refer to the documentation for alternative solver options:\n",
      "    https://scikit-learn.org/stable/modules/linear_model.html#logistic-regression\n",
      "  n_iter_i = _check_optimize_result(\n",
      "C:\\Users\\ashih\\anaconda3\\lib\\site-packages\\sklearn\\linear_model\\_logistic.py:762: ConvergenceWarning: lbfgs failed to converge (status=1):\n",
      "STOP: TOTAL NO. of ITERATIONS REACHED LIMIT.\n",
      "\n",
      "Increase the number of iterations (max_iter) or scale the data as shown in:\n",
      "    https://scikit-learn.org/stable/modules/preprocessing.html\n",
      "Please also refer to the documentation for alternative solver options:\n",
      "    https://scikit-learn.org/stable/modules/linear_model.html#logistic-regression\n",
      "  n_iter_i = _check_optimize_result(\n",
      "C:\\Users\\ashih\\anaconda3\\lib\\site-packages\\sklearn\\linear_model\\_logistic.py:762: ConvergenceWarning: lbfgs failed to converge (status=1):\n",
      "STOP: TOTAL NO. of ITERATIONS REACHED LIMIT.\n",
      "\n",
      "Increase the number of iterations (max_iter) or scale the data as shown in:\n",
      "    https://scikit-learn.org/stable/modules/preprocessing.html\n",
      "Please also refer to the documentation for alternative solver options:\n",
      "    https://scikit-learn.org/stable/modules/linear_model.html#logistic-regression\n",
      "  n_iter_i = _check_optimize_result(\n",
      "C:\\Users\\ashih\\anaconda3\\lib\\site-packages\\sklearn\\linear_model\\_logistic.py:762: ConvergenceWarning: lbfgs failed to converge (status=1):\n",
      "STOP: TOTAL NO. of ITERATIONS REACHED LIMIT.\n",
      "\n",
      "Increase the number of iterations (max_iter) or scale the data as shown in:\n",
      "    https://scikit-learn.org/stable/modules/preprocessing.html\n",
      "Please also refer to the documentation for alternative solver options:\n",
      "    https://scikit-learn.org/stable/modules/linear_model.html#logistic-regression\n",
      "  n_iter_i = _check_optimize_result(\n",
      "C:\\Users\\ashih\\anaconda3\\lib\\site-packages\\sklearn\\linear_model\\_logistic.py:762: ConvergenceWarning: lbfgs failed to converge (status=1):\n",
      "STOP: TOTAL NO. of ITERATIONS REACHED LIMIT.\n",
      "\n",
      "Increase the number of iterations (max_iter) or scale the data as shown in:\n",
      "    https://scikit-learn.org/stable/modules/preprocessing.html\n",
      "Please also refer to the documentation for alternative solver options:\n",
      "    https://scikit-learn.org/stable/modules/linear_model.html#logistic-regression\n",
      "  n_iter_i = _check_optimize_result(\n",
      "C:\\Users\\ashih\\anaconda3\\lib\\site-packages\\sklearn\\linear_model\\_logistic.py:762: ConvergenceWarning: lbfgs failed to converge (status=1):\n",
      "STOP: TOTAL NO. of ITERATIONS REACHED LIMIT.\n",
      "\n",
      "Increase the number of iterations (max_iter) or scale the data as shown in:\n",
      "    https://scikit-learn.org/stable/modules/preprocessing.html\n",
      "Please also refer to the documentation for alternative solver options:\n",
      "    https://scikit-learn.org/stable/modules/linear_model.html#logistic-regression\n",
      "  n_iter_i = _check_optimize_result(\n",
      "C:\\Users\\ashih\\anaconda3\\lib\\site-packages\\sklearn\\linear_model\\_logistic.py:762: ConvergenceWarning: lbfgs failed to converge (status=1):\n",
      "STOP: TOTAL NO. of ITERATIONS REACHED LIMIT.\n",
      "\n",
      "Increase the number of iterations (max_iter) or scale the data as shown in:\n",
      "    https://scikit-learn.org/stable/modules/preprocessing.html\n",
      "Please also refer to the documentation for alternative solver options:\n",
      "    https://scikit-learn.org/stable/modules/linear_model.html#logistic-regression\n",
      "  n_iter_i = _check_optimize_result(\n",
      "C:\\Users\\ashih\\anaconda3\\lib\\site-packages\\sklearn\\linear_model\\_logistic.py:762: ConvergenceWarning: lbfgs failed to converge (status=1):\n",
      "STOP: TOTAL NO. of ITERATIONS REACHED LIMIT.\n",
      "\n",
      "Increase the number of iterations (max_iter) or scale the data as shown in:\n",
      "    https://scikit-learn.org/stable/modules/preprocessing.html\n",
      "Please also refer to the documentation for alternative solver options:\n",
      "    https://scikit-learn.org/stable/modules/linear_model.html#logistic-regression\n",
      "  n_iter_i = _check_optimize_result(\n",
      "C:\\Users\\ashih\\anaconda3\\lib\\site-packages\\sklearn\\linear_model\\_logistic.py:762: ConvergenceWarning: lbfgs failed to converge (status=1):\n",
      "STOP: TOTAL NO. of ITERATIONS REACHED LIMIT.\n",
      "\n",
      "Increase the number of iterations (max_iter) or scale the data as shown in:\n",
      "    https://scikit-learn.org/stable/modules/preprocessing.html\n",
      "Please also refer to the documentation for alternative solver options:\n",
      "    https://scikit-learn.org/stable/modules/linear_model.html#logistic-regression\n",
      "  n_iter_i = _check_optimize_result(\n",
      "C:\\Users\\ashih\\anaconda3\\lib\\site-packages\\sklearn\\linear_model\\_logistic.py:762: ConvergenceWarning: lbfgs failed to converge (status=1):\n",
      "STOP: TOTAL NO. of ITERATIONS REACHED LIMIT.\n",
      "\n",
      "Increase the number of iterations (max_iter) or scale the data as shown in:\n",
      "    https://scikit-learn.org/stable/modules/preprocessing.html\n",
      "Please also refer to the documentation for alternative solver options:\n",
      "    https://scikit-learn.org/stable/modules/linear_model.html#logistic-regression\n",
      "  n_iter_i = _check_optimize_result(\n",
      "C:\\Users\\ashih\\anaconda3\\lib\\site-packages\\sklearn\\linear_model\\_logistic.py:762: ConvergenceWarning: lbfgs failed to converge (status=1):\n",
      "STOP: TOTAL NO. of ITERATIONS REACHED LIMIT.\n",
      "\n",
      "Increase the number of iterations (max_iter) or scale the data as shown in:\n",
      "    https://scikit-learn.org/stable/modules/preprocessing.html\n",
      "Please also refer to the documentation for alternative solver options:\n",
      "    https://scikit-learn.org/stable/modules/linear_model.html#logistic-regression\n",
      "  n_iter_i = _check_optimize_result(\n",
      "C:\\Users\\ashih\\anaconda3\\lib\\site-packages\\sklearn\\linear_model\\_logistic.py:762: ConvergenceWarning: lbfgs failed to converge (status=1):\n",
      "STOP: TOTAL NO. of ITERATIONS REACHED LIMIT.\n",
      "\n",
      "Increase the number of iterations (max_iter) or scale the data as shown in:\n",
      "    https://scikit-learn.org/stable/modules/preprocessing.html\n",
      "Please also refer to the documentation for alternative solver options:\n",
      "    https://scikit-learn.org/stable/modules/linear_model.html#logistic-regression\n",
      "  n_iter_i = _check_optimize_result(\n",
      "C:\\Users\\ashih\\anaconda3\\lib\\site-packages\\sklearn\\linear_model\\_logistic.py:762: ConvergenceWarning: lbfgs failed to converge (status=1):\n",
      "STOP: TOTAL NO. of ITERATIONS REACHED LIMIT.\n",
      "\n",
      "Increase the number of iterations (max_iter) or scale the data as shown in:\n",
      "    https://scikit-learn.org/stable/modules/preprocessing.html\n",
      "Please also refer to the documentation for alternative solver options:\n",
      "    https://scikit-learn.org/stable/modules/linear_model.html#logistic-regression\n",
      "  n_iter_i = _check_optimize_result(\n",
      "C:\\Users\\ashih\\anaconda3\\lib\\site-packages\\sklearn\\linear_model\\_logistic.py:762: ConvergenceWarning: lbfgs failed to converge (status=1):\n",
      "STOP: TOTAL NO. of ITERATIONS REACHED LIMIT.\n",
      "\n",
      "Increase the number of iterations (max_iter) or scale the data as shown in:\n",
      "    https://scikit-learn.org/stable/modules/preprocessing.html\n",
      "Please also refer to the documentation for alternative solver options:\n",
      "    https://scikit-learn.org/stable/modules/linear_model.html#logistic-regression\n",
      "  n_iter_i = _check_optimize_result(\n",
      "C:\\Users\\ashih\\anaconda3\\lib\\site-packages\\sklearn\\linear_model\\_logistic.py:762: ConvergenceWarning: lbfgs failed to converge (status=1):\n",
      "STOP: TOTAL NO. of ITERATIONS REACHED LIMIT.\n",
      "\n",
      "Increase the number of iterations (max_iter) or scale the data as shown in:\n",
      "    https://scikit-learn.org/stable/modules/preprocessing.html\n",
      "Please also refer to the documentation for alternative solver options:\n",
      "    https://scikit-learn.org/stable/modules/linear_model.html#logistic-regression\n",
      "  n_iter_i = _check_optimize_result(\n",
      "C:\\Users\\ashih\\anaconda3\\lib\\site-packages\\sklearn\\linear_model\\_logistic.py:762: ConvergenceWarning: lbfgs failed to converge (status=1):\n",
      "STOP: TOTAL NO. of ITERATIONS REACHED LIMIT.\n",
      "\n",
      "Increase the number of iterations (max_iter) or scale the data as shown in:\n",
      "    https://scikit-learn.org/stable/modules/preprocessing.html\n",
      "Please also refer to the documentation for alternative solver options:\n",
      "    https://scikit-learn.org/stable/modules/linear_model.html#logistic-regression\n",
      "  n_iter_i = _check_optimize_result(\n"
     ]
    },
    {
     "name": "stderr",
     "output_type": "stream",
     "text": [
      "C:\\Users\\ashih\\anaconda3\\lib\\site-packages\\sklearn\\linear_model\\_logistic.py:762: ConvergenceWarning: lbfgs failed to converge (status=1):\n",
      "STOP: TOTAL NO. of ITERATIONS REACHED LIMIT.\n",
      "\n",
      "Increase the number of iterations (max_iter) or scale the data as shown in:\n",
      "    https://scikit-learn.org/stable/modules/preprocessing.html\n",
      "Please also refer to the documentation for alternative solver options:\n",
      "    https://scikit-learn.org/stable/modules/linear_model.html#logistic-regression\n",
      "  n_iter_i = _check_optimize_result(\n",
      "C:\\Users\\ashih\\anaconda3\\lib\\site-packages\\sklearn\\linear_model\\_logistic.py:762: ConvergenceWarning: lbfgs failed to converge (status=1):\n",
      "STOP: TOTAL NO. of ITERATIONS REACHED LIMIT.\n",
      "\n",
      "Increase the number of iterations (max_iter) or scale the data as shown in:\n",
      "    https://scikit-learn.org/stable/modules/preprocessing.html\n",
      "Please also refer to the documentation for alternative solver options:\n",
      "    https://scikit-learn.org/stable/modules/linear_model.html#logistic-regression\n",
      "  n_iter_i = _check_optimize_result(\n",
      "C:\\Users\\ashih\\anaconda3\\lib\\site-packages\\sklearn\\linear_model\\_logistic.py:762: ConvergenceWarning: lbfgs failed to converge (status=1):\n",
      "STOP: TOTAL NO. of ITERATIONS REACHED LIMIT.\n",
      "\n",
      "Increase the number of iterations (max_iter) or scale the data as shown in:\n",
      "    https://scikit-learn.org/stable/modules/preprocessing.html\n",
      "Please also refer to the documentation for alternative solver options:\n",
      "    https://scikit-learn.org/stable/modules/linear_model.html#logistic-regression\n",
      "  n_iter_i = _check_optimize_result(\n",
      "C:\\Users\\ashih\\anaconda3\\lib\\site-packages\\sklearn\\linear_model\\_logistic.py:762: ConvergenceWarning: lbfgs failed to converge (status=1):\n",
      "STOP: TOTAL NO. of ITERATIONS REACHED LIMIT.\n",
      "\n",
      "Increase the number of iterations (max_iter) or scale the data as shown in:\n",
      "    https://scikit-learn.org/stable/modules/preprocessing.html\n",
      "Please also refer to the documentation for alternative solver options:\n",
      "    https://scikit-learn.org/stable/modules/linear_model.html#logistic-regression\n",
      "  n_iter_i = _check_optimize_result(\n",
      "C:\\Users\\ashih\\anaconda3\\lib\\site-packages\\sklearn\\linear_model\\_logistic.py:762: ConvergenceWarning: lbfgs failed to converge (status=1):\n",
      "STOP: TOTAL NO. of ITERATIONS REACHED LIMIT.\n",
      "\n",
      "Increase the number of iterations (max_iter) or scale the data as shown in:\n",
      "    https://scikit-learn.org/stable/modules/preprocessing.html\n",
      "Please also refer to the documentation for alternative solver options:\n",
      "    https://scikit-learn.org/stable/modules/linear_model.html#logistic-regression\n",
      "  n_iter_i = _check_optimize_result(\n",
      "C:\\Users\\ashih\\anaconda3\\lib\\site-packages\\sklearn\\linear_model\\_logistic.py:762: ConvergenceWarning: lbfgs failed to converge (status=1):\n",
      "STOP: TOTAL NO. of ITERATIONS REACHED LIMIT.\n",
      "\n",
      "Increase the number of iterations (max_iter) or scale the data as shown in:\n",
      "    https://scikit-learn.org/stable/modules/preprocessing.html\n",
      "Please also refer to the documentation for alternative solver options:\n",
      "    https://scikit-learn.org/stable/modules/linear_model.html#logistic-regression\n",
      "  n_iter_i = _check_optimize_result(\n",
      "C:\\Users\\ashih\\anaconda3\\lib\\site-packages\\sklearn\\linear_model\\_logistic.py:762: ConvergenceWarning: lbfgs failed to converge (status=1):\n",
      "STOP: TOTAL NO. of ITERATIONS REACHED LIMIT.\n",
      "\n",
      "Increase the number of iterations (max_iter) or scale the data as shown in:\n",
      "    https://scikit-learn.org/stable/modules/preprocessing.html\n",
      "Please also refer to the documentation for alternative solver options:\n",
      "    https://scikit-learn.org/stable/modules/linear_model.html#logistic-regression\n",
      "  n_iter_i = _check_optimize_result(\n",
      "C:\\Users\\ashih\\anaconda3\\lib\\site-packages\\sklearn\\linear_model\\_logistic.py:762: ConvergenceWarning: lbfgs failed to converge (status=1):\n",
      "STOP: TOTAL NO. of ITERATIONS REACHED LIMIT.\n",
      "\n",
      "Increase the number of iterations (max_iter) or scale the data as shown in:\n",
      "    https://scikit-learn.org/stable/modules/preprocessing.html\n",
      "Please also refer to the documentation for alternative solver options:\n",
      "    https://scikit-learn.org/stable/modules/linear_model.html#logistic-regression\n",
      "  n_iter_i = _check_optimize_result(\n",
      "C:\\Users\\ashih\\anaconda3\\lib\\site-packages\\sklearn\\linear_model\\_logistic.py:762: ConvergenceWarning: lbfgs failed to converge (status=1):\n",
      "STOP: TOTAL NO. of ITERATIONS REACHED LIMIT.\n",
      "\n",
      "Increase the number of iterations (max_iter) or scale the data as shown in:\n",
      "    https://scikit-learn.org/stable/modules/preprocessing.html\n",
      "Please also refer to the documentation for alternative solver options:\n",
      "    https://scikit-learn.org/stable/modules/linear_model.html#logistic-regression\n",
      "  n_iter_i = _check_optimize_result(\n",
      "C:\\Users\\ashih\\anaconda3\\lib\\site-packages\\sklearn\\linear_model\\_logistic.py:762: ConvergenceWarning: lbfgs failed to converge (status=1):\n",
      "STOP: TOTAL NO. of ITERATIONS REACHED LIMIT.\n",
      "\n",
      "Increase the number of iterations (max_iter) or scale the data as shown in:\n",
      "    https://scikit-learn.org/stable/modules/preprocessing.html\n",
      "Please also refer to the documentation for alternative solver options:\n",
      "    https://scikit-learn.org/stable/modules/linear_model.html#logistic-regression\n",
      "  n_iter_i = _check_optimize_result(\n",
      "C:\\Users\\ashih\\anaconda3\\lib\\site-packages\\sklearn\\linear_model\\_logistic.py:762: ConvergenceWarning: lbfgs failed to converge (status=1):\n",
      "STOP: TOTAL NO. of ITERATIONS REACHED LIMIT.\n",
      "\n",
      "Increase the number of iterations (max_iter) or scale the data as shown in:\n",
      "    https://scikit-learn.org/stable/modules/preprocessing.html\n",
      "Please also refer to the documentation for alternative solver options:\n",
      "    https://scikit-learn.org/stable/modules/linear_model.html#logistic-regression\n",
      "  n_iter_i = _check_optimize_result(\n",
      "C:\\Users\\ashih\\anaconda3\\lib\\site-packages\\sklearn\\linear_model\\_logistic.py:762: ConvergenceWarning: lbfgs failed to converge (status=1):\n",
      "STOP: TOTAL NO. of ITERATIONS REACHED LIMIT.\n",
      "\n",
      "Increase the number of iterations (max_iter) or scale the data as shown in:\n",
      "    https://scikit-learn.org/stable/modules/preprocessing.html\n",
      "Please also refer to the documentation for alternative solver options:\n",
      "    https://scikit-learn.org/stable/modules/linear_model.html#logistic-regression\n",
      "  n_iter_i = _check_optimize_result(\n",
      "C:\\Users\\ashih\\anaconda3\\lib\\site-packages\\sklearn\\linear_model\\_logistic.py:762: ConvergenceWarning: lbfgs failed to converge (status=1):\n",
      "STOP: TOTAL NO. of ITERATIONS REACHED LIMIT.\n",
      "\n",
      "Increase the number of iterations (max_iter) or scale the data as shown in:\n",
      "    https://scikit-learn.org/stable/modules/preprocessing.html\n",
      "Please also refer to the documentation for alternative solver options:\n",
      "    https://scikit-learn.org/stable/modules/linear_model.html#logistic-regression\n",
      "  n_iter_i = _check_optimize_result(\n",
      "C:\\Users\\ashih\\anaconda3\\lib\\site-packages\\sklearn\\linear_model\\_logistic.py:762: ConvergenceWarning: lbfgs failed to converge (status=1):\n",
      "STOP: TOTAL NO. of ITERATIONS REACHED LIMIT.\n",
      "\n",
      "Increase the number of iterations (max_iter) or scale the data as shown in:\n",
      "    https://scikit-learn.org/stable/modules/preprocessing.html\n",
      "Please also refer to the documentation for alternative solver options:\n",
      "    https://scikit-learn.org/stable/modules/linear_model.html#logistic-regression\n",
      "  n_iter_i = _check_optimize_result(\n",
      "C:\\Users\\ashih\\anaconda3\\lib\\site-packages\\sklearn\\linear_model\\_logistic.py:762: ConvergenceWarning: lbfgs failed to converge (status=1):\n",
      "STOP: TOTAL NO. of ITERATIONS REACHED LIMIT.\n",
      "\n",
      "Increase the number of iterations (max_iter) or scale the data as shown in:\n",
      "    https://scikit-learn.org/stable/modules/preprocessing.html\n",
      "Please also refer to the documentation for alternative solver options:\n",
      "    https://scikit-learn.org/stable/modules/linear_model.html#logistic-regression\n",
      "  n_iter_i = _check_optimize_result(\n",
      "C:\\Users\\ashih\\anaconda3\\lib\\site-packages\\sklearn\\linear_model\\_logistic.py:762: ConvergenceWarning: lbfgs failed to converge (status=1):\n",
      "STOP: TOTAL NO. of ITERATIONS REACHED LIMIT.\n",
      "\n",
      "Increase the number of iterations (max_iter) or scale the data as shown in:\n",
      "    https://scikit-learn.org/stable/modules/preprocessing.html\n",
      "Please also refer to the documentation for alternative solver options:\n",
      "    https://scikit-learn.org/stable/modules/linear_model.html#logistic-regression\n",
      "  n_iter_i = _check_optimize_result(\n",
      "C:\\Users\\ashih\\anaconda3\\lib\\site-packages\\sklearn\\linear_model\\_logistic.py:762: ConvergenceWarning: lbfgs failed to converge (status=1):\n",
      "STOP: TOTAL NO. of ITERATIONS REACHED LIMIT.\n",
      "\n",
      "Increase the number of iterations (max_iter) or scale the data as shown in:\n",
      "    https://scikit-learn.org/stable/modules/preprocessing.html\n",
      "Please also refer to the documentation for alternative solver options:\n",
      "    https://scikit-learn.org/stable/modules/linear_model.html#logistic-regression\n",
      "  n_iter_i = _check_optimize_result(\n",
      "C:\\Users\\ashih\\anaconda3\\lib\\site-packages\\sklearn\\linear_model\\_logistic.py:762: ConvergenceWarning: lbfgs failed to converge (status=1):\n",
      "STOP: TOTAL NO. of ITERATIONS REACHED LIMIT.\n",
      "\n",
      "Increase the number of iterations (max_iter) or scale the data as shown in:\n",
      "    https://scikit-learn.org/stable/modules/preprocessing.html\n",
      "Please also refer to the documentation for alternative solver options:\n",
      "    https://scikit-learn.org/stable/modules/linear_model.html#logistic-regression\n",
      "  n_iter_i = _check_optimize_result(\n"
     ]
    },
    {
     "name": "stderr",
     "output_type": "stream",
     "text": [
      "C:\\Users\\ashih\\anaconda3\\lib\\site-packages\\sklearn\\linear_model\\_logistic.py:762: ConvergenceWarning: lbfgs failed to converge (status=1):\n",
      "STOP: TOTAL NO. of ITERATIONS REACHED LIMIT.\n",
      "\n",
      "Increase the number of iterations (max_iter) or scale the data as shown in:\n",
      "    https://scikit-learn.org/stable/modules/preprocessing.html\n",
      "Please also refer to the documentation for alternative solver options:\n",
      "    https://scikit-learn.org/stable/modules/linear_model.html#logistic-regression\n",
      "  n_iter_i = _check_optimize_result(\n",
      "C:\\Users\\ashih\\anaconda3\\lib\\site-packages\\sklearn\\linear_model\\_logistic.py:762: ConvergenceWarning: lbfgs failed to converge (status=1):\n",
      "STOP: TOTAL NO. of ITERATIONS REACHED LIMIT.\n",
      "\n",
      "Increase the number of iterations (max_iter) or scale the data as shown in:\n",
      "    https://scikit-learn.org/stable/modules/preprocessing.html\n",
      "Please also refer to the documentation for alternative solver options:\n",
      "    https://scikit-learn.org/stable/modules/linear_model.html#logistic-regression\n",
      "  n_iter_i = _check_optimize_result(\n",
      "C:\\Users\\ashih\\anaconda3\\lib\\site-packages\\sklearn\\linear_model\\_logistic.py:762: ConvergenceWarning: lbfgs failed to converge (status=1):\n",
      "STOP: TOTAL NO. of ITERATIONS REACHED LIMIT.\n",
      "\n",
      "Increase the number of iterations (max_iter) or scale the data as shown in:\n",
      "    https://scikit-learn.org/stable/modules/preprocessing.html\n",
      "Please also refer to the documentation for alternative solver options:\n",
      "    https://scikit-learn.org/stable/modules/linear_model.html#logistic-regression\n",
      "  n_iter_i = _check_optimize_result(\n",
      "C:\\Users\\ashih\\anaconda3\\lib\\site-packages\\sklearn\\linear_model\\_logistic.py:762: ConvergenceWarning: lbfgs failed to converge (status=1):\n",
      "STOP: TOTAL NO. of ITERATIONS REACHED LIMIT.\n",
      "\n",
      "Increase the number of iterations (max_iter) or scale the data as shown in:\n",
      "    https://scikit-learn.org/stable/modules/preprocessing.html\n",
      "Please also refer to the documentation for alternative solver options:\n",
      "    https://scikit-learn.org/stable/modules/linear_model.html#logistic-regression\n",
      "  n_iter_i = _check_optimize_result(\n",
      "C:\\Users\\ashih\\anaconda3\\lib\\site-packages\\sklearn\\linear_model\\_logistic.py:762: ConvergenceWarning: lbfgs failed to converge (status=1):\n",
      "STOP: TOTAL NO. of ITERATIONS REACHED LIMIT.\n",
      "\n",
      "Increase the number of iterations (max_iter) or scale the data as shown in:\n",
      "    https://scikit-learn.org/stable/modules/preprocessing.html\n",
      "Please also refer to the documentation for alternative solver options:\n",
      "    https://scikit-learn.org/stable/modules/linear_model.html#logistic-regression\n",
      "  n_iter_i = _check_optimize_result(\n",
      "C:\\Users\\ashih\\anaconda3\\lib\\site-packages\\sklearn\\linear_model\\_logistic.py:762: ConvergenceWarning: lbfgs failed to converge (status=1):\n",
      "STOP: TOTAL NO. of ITERATIONS REACHED LIMIT.\n",
      "\n",
      "Increase the number of iterations (max_iter) or scale the data as shown in:\n",
      "    https://scikit-learn.org/stable/modules/preprocessing.html\n",
      "Please also refer to the documentation for alternative solver options:\n",
      "    https://scikit-learn.org/stable/modules/linear_model.html#logistic-regression\n",
      "  n_iter_i = _check_optimize_result(\n",
      "C:\\Users\\ashih\\anaconda3\\lib\\site-packages\\sklearn\\linear_model\\_logistic.py:762: ConvergenceWarning: lbfgs failed to converge (status=1):\n",
      "STOP: TOTAL NO. of ITERATIONS REACHED LIMIT.\n",
      "\n",
      "Increase the number of iterations (max_iter) or scale the data as shown in:\n",
      "    https://scikit-learn.org/stable/modules/preprocessing.html\n",
      "Please also refer to the documentation for alternative solver options:\n",
      "    https://scikit-learn.org/stable/modules/linear_model.html#logistic-regression\n",
      "  n_iter_i = _check_optimize_result(\n",
      "C:\\Users\\ashih\\anaconda3\\lib\\site-packages\\sklearn\\linear_model\\_logistic.py:762: ConvergenceWarning: lbfgs failed to converge (status=1):\n",
      "STOP: TOTAL NO. of ITERATIONS REACHED LIMIT.\n",
      "\n",
      "Increase the number of iterations (max_iter) or scale the data as shown in:\n",
      "    https://scikit-learn.org/stable/modules/preprocessing.html\n",
      "Please also refer to the documentation for alternative solver options:\n",
      "    https://scikit-learn.org/stable/modules/linear_model.html#logistic-regression\n",
      "  n_iter_i = _check_optimize_result(\n",
      "C:\\Users\\ashih\\anaconda3\\lib\\site-packages\\sklearn\\linear_model\\_logistic.py:762: ConvergenceWarning: lbfgs failed to converge (status=1):\n",
      "STOP: TOTAL NO. of ITERATIONS REACHED LIMIT.\n",
      "\n",
      "Increase the number of iterations (max_iter) or scale the data as shown in:\n",
      "    https://scikit-learn.org/stable/modules/preprocessing.html\n",
      "Please also refer to the documentation for alternative solver options:\n",
      "    https://scikit-learn.org/stable/modules/linear_model.html#logistic-regression\n",
      "  n_iter_i = _check_optimize_result(\n",
      "C:\\Users\\ashih\\anaconda3\\lib\\site-packages\\sklearn\\linear_model\\_logistic.py:762: ConvergenceWarning: lbfgs failed to converge (status=1):\n",
      "STOP: TOTAL NO. of ITERATIONS REACHED LIMIT.\n",
      "\n",
      "Increase the number of iterations (max_iter) or scale the data as shown in:\n",
      "    https://scikit-learn.org/stable/modules/preprocessing.html\n",
      "Please also refer to the documentation for alternative solver options:\n",
      "    https://scikit-learn.org/stable/modules/linear_model.html#logistic-regression\n",
      "  n_iter_i = _check_optimize_result(\n",
      "C:\\Users\\ashih\\anaconda3\\lib\\site-packages\\sklearn\\linear_model\\_logistic.py:762: ConvergenceWarning: lbfgs failed to converge (status=1):\n",
      "STOP: TOTAL NO. of ITERATIONS REACHED LIMIT.\n",
      "\n",
      "Increase the number of iterations (max_iter) or scale the data as shown in:\n",
      "    https://scikit-learn.org/stable/modules/preprocessing.html\n",
      "Please also refer to the documentation for alternative solver options:\n",
      "    https://scikit-learn.org/stable/modules/linear_model.html#logistic-regression\n",
      "  n_iter_i = _check_optimize_result(\n",
      "C:\\Users\\ashih\\anaconda3\\lib\\site-packages\\sklearn\\linear_model\\_logistic.py:762: ConvergenceWarning: lbfgs failed to converge (status=1):\n",
      "STOP: TOTAL NO. of ITERATIONS REACHED LIMIT.\n",
      "\n",
      "Increase the number of iterations (max_iter) or scale the data as shown in:\n",
      "    https://scikit-learn.org/stable/modules/preprocessing.html\n",
      "Please also refer to the documentation for alternative solver options:\n",
      "    https://scikit-learn.org/stable/modules/linear_model.html#logistic-regression\n",
      "  n_iter_i = _check_optimize_result(\n",
      "C:\\Users\\ashih\\anaconda3\\lib\\site-packages\\sklearn\\linear_model\\_logistic.py:762: ConvergenceWarning: lbfgs failed to converge (status=1):\n",
      "STOP: TOTAL NO. of ITERATIONS REACHED LIMIT.\n",
      "\n",
      "Increase the number of iterations (max_iter) or scale the data as shown in:\n",
      "    https://scikit-learn.org/stable/modules/preprocessing.html\n",
      "Please also refer to the documentation for alternative solver options:\n",
      "    https://scikit-learn.org/stable/modules/linear_model.html#logistic-regression\n",
      "  n_iter_i = _check_optimize_result(\n",
      "C:\\Users\\ashih\\anaconda3\\lib\\site-packages\\sklearn\\linear_model\\_logistic.py:762: ConvergenceWarning: lbfgs failed to converge (status=1):\n",
      "STOP: TOTAL NO. of ITERATIONS REACHED LIMIT.\n",
      "\n",
      "Increase the number of iterations (max_iter) or scale the data as shown in:\n",
      "    https://scikit-learn.org/stable/modules/preprocessing.html\n",
      "Please also refer to the documentation for alternative solver options:\n",
      "    https://scikit-learn.org/stable/modules/linear_model.html#logistic-regression\n",
      "  n_iter_i = _check_optimize_result(\n",
      "C:\\Users\\ashih\\anaconda3\\lib\\site-packages\\sklearn\\linear_model\\_logistic.py:762: ConvergenceWarning: lbfgs failed to converge (status=1):\n",
      "STOP: TOTAL NO. of ITERATIONS REACHED LIMIT.\n",
      "\n",
      "Increase the number of iterations (max_iter) or scale the data as shown in:\n",
      "    https://scikit-learn.org/stable/modules/preprocessing.html\n",
      "Please also refer to the documentation for alternative solver options:\n",
      "    https://scikit-learn.org/stable/modules/linear_model.html#logistic-regression\n",
      "  n_iter_i = _check_optimize_result(\n"
     ]
    }
   ],
   "source": [
    "from sklearn.model_selection import cross_val_score\n",
    "\n",
    "scores=[]\n",
    "C_param_range = np.linspace(0.01,10,10)\n",
    "best_score=-np.inf\n",
    "\n",
    "for i in C_param_range:\n",
    "    LR=LogisticRegression(C=i)\n",
    "    scores.append(cross_val_score(LR,X_train,y_train,cv=5).mean())\n",
    "    if scores[-1]>best_score:\n",
    "        best_score=scores[-1]\n",
    "        best_C=i"
   ]
  },
  {
   "cell_type": "code",
   "execution_count": 11,
   "metadata": {},
   "outputs": [
    {
     "name": "stdout",
     "output_type": "stream",
     "text": [
      "0.01 0.9415488215488216\n",
      "\n",
      "Cross validation tells us the best C (complexity) value for the Logistic \n",
      "Regression Model is 0.01 which gives an average training score of 0.9415488215488216.\n"
     ]
    }
   ],
   "source": [
    "print(best_C, best_score)\n",
    "print(\"\\nCross validation tells us the best C (complexity) value for the Logistic \\nRegression Model is \"\n",
    "      + str(best_C)+\" which gives an average training score of \"+ str(best_score)+\".\")"
   ]
  },
  {
   "cell_type": "markdown",
   "metadata": {},
   "source": [
    "### Evaluation on Unseen Testing Data \n",
    "Using the test set, we will now create a confusion matrix to test our model on unseen data and evaluate its overall predictive power."
   ]
  },
  {
   "cell_type": "code",
   "execution_count": 12,
   "metadata": {},
   "outputs": [
    {
     "name": "stderr",
     "output_type": "stream",
     "text": [
      "C:\\Users\\ashih\\anaconda3\\lib\\site-packages\\sklearn\\linear_model\\_logistic.py:762: ConvergenceWarning: lbfgs failed to converge (status=1):\n",
      "STOP: TOTAL NO. of ITERATIONS REACHED LIMIT.\n",
      "\n",
      "Increase the number of iterations (max_iter) or scale the data as shown in:\n",
      "    https://scikit-learn.org/stable/modules/preprocessing.html\n",
      "Please also refer to the documentation for alternative solver options:\n",
      "    https://scikit-learn.org/stable/modules/linear_model.html#logistic-regression\n",
      "  n_iter_i = _check_optimize_result(\n"
     ]
    },
    {
     "data": {
      "text/plain": [
       "array([[32,  0,  0],\n",
       "       [ 2, 12,  0],\n",
       "       [ 0,  0, 23]], dtype=int64)"
      ]
     },
     "execution_count": 12,
     "metadata": {},
     "output_type": "execute_result"
    }
   ],
   "source": [
    "LR=LogisticRegression(C=best_C)\n",
    "LR.fit(X_train,y_train)\n",
    "y_test_pred=LR.predict(X_test)\n",
    "\n",
    "from sklearn.metrics import confusion_matrix\n",
    "confusion_matrix(y_test,y_test_pred)"
   ]
  },
  {
   "cell_type": "markdown",
   "metadata": {},
   "source": [
    "### Visualization of Decision Regions"
   ]
  },
  {
   "cell_type": "code",
   "execution_count": 13,
   "metadata": {},
   "outputs": [
    {
     "data": {
      "image/png": "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\n",
      "text/plain": [
       "<Figure size 864x288 with 3 Axes>"
      ]
     },
     "metadata": {
      "needs_background": "light"
     },
     "output_type": "display_data"
    }
   ],
   "source": [
    "#create object model with the calculated best C value\n",
    "plot_regions(LR,X_train, y_train)"
   ]
  },
  {
   "cell_type": "markdown",
   "metadata": {},
   "source": [
    "### Discussing the Mistakes in our Model\n",
    "\n",
    "Looking at the points against the decision regions, we can see that our logistic model performs pretty well! The large majority of penguins falls within the correct predicted region for species. This is confirmed by our confusion matrix which shows us that the largest values lay on the diagonal entries, indicating the model is correct most of the time. \n",
    "\n",
    "Lets examine some of the points that were inaccurately classified. For example, there are a few Chinstrap penguins on Dream Island that were incorrectly classified by our model as Gentoo penguins. In reality, we know there are no Gentoo penguins on Dream Island which is why our model has clearly made a mistake. However, because our models were trained on the entire data set before they were split up by island, the machine recognizes that there are 3 species and classified the penguin the best it could with the data it was trained on. While we could improve the model's predictive power by training on separate islands, we don't want to do that as it can lead to overfitting. So although our model is not perfect, it is pretty good!"
   ]
  },
  {
   "cell_type": "markdown",
   "metadata": {},
   "source": [
    "## Model 2. Support Vector Machines"
   ]
  },
  {
   "cell_type": "code",
   "execution_count": 14,
   "metadata": {},
   "outputs": [],
   "source": [
    "from sklearn import svm"
   ]
  },
  {
   "cell_type": "markdown",
   "metadata": {},
   "source": [
    "### Cross Validation"
   ]
  },
  {
   "cell_type": "code",
   "execution_count": 15,
   "metadata": {},
   "outputs": [
    {
     "name": "stdout",
     "output_type": "stream",
     "text": [
      "0.05 0.9452525252525252\n",
      "\n",
      "Cross validation tells us the best gamma (complexity) value for the Support Vector\n",
      "Machine Model is 0.05 which gives an average training score of 0.9452525252525252.\n"
     ]
    }
   ],
   "source": [
    "from sklearn.model_selection import cross_val_score\n",
    "\n",
    "scores=[]\n",
    "gamma = np.linspace(.05,5,100)\n",
    "best_score=-np.inf\n",
    "\n",
    "for i in gamma:\n",
    "    SVM=svm.SVC(gamma=i)\n",
    "    scores.append(cross_val_score(SVM,X_train,y_train,cv=5).mean())\n",
    "    if scores[-1]>best_score:\n",
    "        best_score=scores[-1]\n",
    "        best_gamma=i\n",
    "        \n",
    "print(best_gamma, best_score)\n",
    "print(\"\\nCross validation tells us the best gamma (complexity) value for the Support Vector\\nMachine Model is \"\n",
    "      + str(best_gamma)+\" which gives an average training score of \"+ str(best_score)+\".\")"
   ]
  },
  {
   "cell_type": "markdown",
   "metadata": {},
   "source": [
    "### Confusion Matrix"
   ]
  },
  {
   "cell_type": "code",
   "execution_count": 16,
   "metadata": {},
   "outputs": [
    {
     "data": {
      "text/plain": [
       "array([[32,  0,  0],\n",
       "       [ 2, 12,  0],\n",
       "       [ 0,  0, 23]], dtype=int64)"
      ]
     },
     "execution_count": 16,
     "metadata": {},
     "output_type": "execute_result"
    }
   ],
   "source": [
    "SVM=svm.SVC(gamma=best_gamma)\n",
    "SVM.fit(X_train,y_train)\n",
    "y_test_pred=SVM.predict(X_test)\n",
    "\n",
    "from sklearn.metrics import confusion_matrix\n",
    "confusion_matrix(y_test,y_test_pred)"
   ]
  },
  {
   "cell_type": "markdown",
   "metadata": {},
   "source": [
    "### Visualization of Decision Regions"
   ]
  },
  {
   "cell_type": "code",
   "execution_count": 17,
   "metadata": {},
   "outputs": [
    {
     "data": {
      "image/png": "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\n",
      "text/plain": [
       "<Figure size 864x288 with 3 Axes>"
      ]
     },
     "metadata": {
      "needs_background": "light"
     },
     "output_type": "display_data"
    }
   ],
   "source": [
    "plot_regions(SVM,X_train,y_train)"
   ]
  },
  {
   "cell_type": "markdown",
   "metadata": {},
   "source": [
    "### Discussing the Mistakes in our Model\n",
    "\n",
    "The support vector machine model does a pretty good job of correctly classifying Adelie and Gentoo Penguins. However if we examine the decision regions and scatter plot of the points on Dream Island, we see that Chinstrap penguins seem to be the most often misclassified species. Our confusion matrix reflects this fact as well. To explain this discrepancy, we can cite representation bias. \n",
    "\n",
    "If we look back on our table from Part 3 (Exploratory Analysis), there are the fewest number of Chinstrap penguins in the dataset. There are only 68 Chinstrap penguins compared to 124 Gentoo and 152 Adelie penguins. Because our model had less information on Chinstrap penguins when it was being trained, it struggled more to correctly identify the Chinstraps relative to the other species."
   ]
  },
  {
   "cell_type": "markdown",
   "metadata": {},
   "source": [
    "# 6. Discussion"
   ]
  },
  {
   "cell_type": "code",
   "execution_count": 18,
   "metadata": {},
   "outputs": [
    {
     "name": "stdout",
     "output_type": "stream",
     "text": [
      "The training score on X_train and y_train for the Logistic Regression model is 0.9487179487179487\n",
      "The test score on X_test and y_test for the Logistic Regression model is 0.9710144927536232\n"
     ]
    }
   ],
   "source": [
    "a=LR.score(X_train[[\"Flipper Length (mm)\",\"Culmen Length (mm)\"]],y_train)\n",
    "b=LR.score(X_test[[\"Flipper Length (mm)\",\"Culmen Length (mm)\"]],y_test)\n",
    "\n",
    "print(\"The training score on X_train and y_train for the Logistic Regression model is \" +str(a))\n",
    "print(\"The test score on X_test and y_test for the Logistic Regression model is \" +str(b))"
   ]
  },
  {
   "cell_type": "code",
   "execution_count": 19,
   "metadata": {},
   "outputs": [
    {
     "name": "stdout",
     "output_type": "stream",
     "text": [
      "The training score on X_train and y_train for the Support Vector Machines model is 0.9560439560439561\n",
      "The test score on X_test and y_test for the Support Vector Machines model is 0.9710144927536232\n"
     ]
    }
   ],
   "source": [
    "e=SVM.score(X_train[[\"Flipper Length (mm)\",\"Culmen Length (mm)\"]],y_train)\n",
    "f=SVM.score(X_test[[\"Flipper Length (mm)\",\"Culmen Length (mm)\"]],y_test)\n",
    "\n",
    "print(\"The training score on X_train and y_train for the Support Vector Machines model is \" +str(e))\n",
    "print(\"The test score on X_test and y_test for the Support Vector Machines model is \" +str(f))"
   ]
  },
  {
   "cell_type": "markdown",
   "metadata": {},
   "source": [
    "Overall, both models perform well on classification of penguin species. Since the two models we chose have similar accuracy, we recommend using the simpler logistic regression model with parameter 0.01. Our models could be improved by using optimization functions to find optimal parameter values rather than selecting the best values out of a pre-determined finite list. The sample size of 344 is also fairly low, potentially making our models inaccurate. Collecting more data could help to either validate or invalidate our model."
   ]
  }
 ],
 "metadata": {
  "kernelspec": {
   "display_name": "Python 3",
   "language": "python",
   "name": "python3"
  },
  "language_info": {
   "codemirror_mode": {
    "name": "ipython",
    "version": 3
   },
   "file_extension": ".py",
   "mimetype": "text/x-python",
   "name": "python",
   "nbconvert_exporter": "python",
   "pygments_lexer": "ipython3",
   "version": "3.8.5"
  }
 },
 "nbformat": 4,
 "nbformat_minor": 5
}
