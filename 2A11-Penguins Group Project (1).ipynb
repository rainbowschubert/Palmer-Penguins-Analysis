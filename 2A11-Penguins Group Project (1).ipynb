{
 "cells": [
  {
   "cell_type": "markdown",
   "metadata": {},
   "source": [
    "## Group 2A11\n",
    "- "
   ]
  },
  {
   "cell_type": "markdown",
   "metadata": {},
   "source": [
    "## Group Contributions Statement"
   ]
  },
  {
   "cell_type": "code",
   "execution_count": 2,
   "metadata": {},
   "outputs": [
    {
     "ename": "NameError",
     "evalue": "name 'penguins' is not defined",
     "output_type": "error",
     "traceback": [
      "\u001b[1;31m---------------------------------------------------------------------------\u001b[0m",
      "\u001b[1;31mNameError\u001b[0m                                 Traceback (most recent call last)",
      "\u001b[1;32m<ipython-input-2-e8543290a0d0>\u001b[0m in \u001b[0;36m<module>\u001b[1;34m\u001b[0m\n\u001b[1;32m----> 1\u001b[1;33m \u001b[0mpenguins\u001b[0m\u001b[1;33m\u001b[0m\u001b[1;33m\u001b[0m\u001b[0m\n\u001b[0m",
      "\u001b[1;31mNameError\u001b[0m: name 'penguins' is not defined"
     ]
    }
   ],
   "source": [
    "penguins"
   ]
  },
  {
   "cell_type": "markdown",
   "metadata": {},
   "source": [
    "## Data Import and Cleaning"
   ]
  },
  {
   "cell_type": "code",
   "execution_count": 3,
   "metadata": {},
   "outputs": [
    {
     "data": {
      "text/html": [
       "<div>\n",
       "<style scoped>\n",
       "    .dataframe tbody tr th:only-of-type {\n",
       "        vertical-align: middle;\n",
       "    }\n",
       "\n",
       "    .dataframe tbody tr th {\n",
       "        vertical-align: top;\n",
       "    }\n",
       "\n",
       "    .dataframe thead th {\n",
       "        text-align: right;\n",
       "    }\n",
       "</style>\n",
       "<table border=\"1\" class=\"dataframe\">\n",
       "  <thead>\n",
       "    <tr style=\"text-align: right;\">\n",
       "      <th></th>\n",
       "      <th>Culmen Depth (mm)</th>\n",
       "      <th>Body Mass (g)</th>\n",
       "      <th>Island</th>\n",
       "    </tr>\n",
       "  </thead>\n",
       "  <tbody>\n",
       "    <tr>\n",
       "      <th>131</th>\n",
       "      <td>19.2</td>\n",
       "      <td>3500.0</td>\n",
       "      <td>Torgersen</td>\n",
       "    </tr>\n",
       "    <tr>\n",
       "      <th>60</th>\n",
       "      <td>16.9</td>\n",
       "      <td>3150.0</td>\n",
       "      <td>Biscoe</td>\n",
       "    </tr>\n",
       "    <tr>\n",
       "      <th>134</th>\n",
       "      <td>17.6</td>\n",
       "      <td>3425.0</td>\n",
       "      <td>Dream</td>\n",
       "    </tr>\n",
       "    <tr>\n",
       "      <th>292</th>\n",
       "      <td>15.6</td>\n",
       "      <td>5100.0</td>\n",
       "      <td>Biscoe</td>\n",
       "    </tr>\n",
       "    <tr>\n",
       "      <th>156</th>\n",
       "      <td>19.8</td>\n",
       "      <td>3725.0</td>\n",
       "      <td>Dream</td>\n",
       "    </tr>\n",
       "    <tr>\n",
       "      <th>...</th>\n",
       "      <td>...</td>\n",
       "      <td>...</td>\n",
       "      <td>...</td>\n",
       "    </tr>\n",
       "    <tr>\n",
       "      <th>260</th>\n",
       "      <td>13.7</td>\n",
       "      <td>3950.0</td>\n",
       "      <td>Biscoe</td>\n",
       "    </tr>\n",
       "    <tr>\n",
       "      <th>80</th>\n",
       "      <td>17.2</td>\n",
       "      <td>3200.0</td>\n",
       "      <td>Torgersen</td>\n",
       "    </tr>\n",
       "    <tr>\n",
       "      <th>174</th>\n",
       "      <td>16.6</td>\n",
       "      <td>2900.0</td>\n",
       "      <td>Dream</td>\n",
       "    </tr>\n",
       "    <tr>\n",
       "      <th>150</th>\n",
       "      <td>17.1</td>\n",
       "      <td>3700.0</td>\n",
       "      <td>Dream</td>\n",
       "    </tr>\n",
       "    <tr>\n",
       "      <th>197</th>\n",
       "      <td>18.5</td>\n",
       "      <td>4450.0</td>\n",
       "      <td>Dream</td>\n",
       "    </tr>\n",
       "  </tbody>\n",
       "</table>\n",
       "<p>275 rows × 3 columns</p>\n",
       "</div>"
      ],
      "text/plain": [
       "     Culmen Depth (mm)  Body Mass (g)     Island\n",
       "131               19.2         3500.0  Torgersen\n",
       "60                16.9         3150.0     Biscoe\n",
       "134               17.6         3425.0      Dream\n",
       "292               15.6         5100.0     Biscoe\n",
       "156               19.8         3725.0      Dream\n",
       "..                 ...            ...        ...\n",
       "260               13.7         3950.0     Biscoe\n",
       "80                17.2         3200.0  Torgersen\n",
       "174               16.6         2900.0      Dream\n",
       "150               17.1         3700.0      Dream\n",
       "197               18.5         4450.0      Dream\n",
       "\n",
       "[275 rows x 3 columns]"
      ]
     },
     "execution_count": 3,
     "metadata": {},
     "output_type": "execute_result"
    }
   ],
   "source": [
    "#imports\n",
    "import numpy as np\n",
    "from matplotlib import pyplot as plt\n",
    "import pandas as pd\n",
    "from sklearn import preprocessing\n",
    "le=preprocessing.LabelEncoder()\n",
    "from sklearn.model_selection import train_test_split\n",
    "\n",
    "#getting the data\n",
    "url = \"https://philchodrow.github.io/PIC16A/datasets/palmer_penguins.csv\"\n",
    "penguins = pd.read_csv(url)\n",
    "\n",
    "\n",
    "#splitting the data set\n",
    "X=penguins[[\"Culmen Depth (mm)\", \"Body Mass (g)\", \"Island\"]]\n",
    "y=penguins[\"Species\"]\n",
    "\n",
    "\n",
    "X_train,X_test=train_test_split(X,test_size=.2)\n",
    "y_train,y_test=train_test_split(y,test_size=.2)\n",
    "\n",
    "X_train"
   ]
  },
  {
   "cell_type": "code",
   "execution_count": 4,
   "metadata": {},
   "outputs": [],
   "source": [
    "#simplify species names\n",
    "y_train=y_train.str.split().str.get(0)\n",
    "y_test=y_test.str.split().str.get(0)\n",
    "\n",
    "X_train #currently has 275 rows\n",
    "#get rid of nans. is it possible to have nans in different rows for culmen depth and body mass, \n",
    "#would that affect data cleaning\n",
    "\n",
    "X_train=X_train.dropna()  #273\n",
    "X_test=X_test.dropna()\n",
    "y_train=y_train.dropna()  #273\n",
    "y_test=y_test.dropna()\n",
    "\n",
    "#changing species names to numbers\n",
    "y_train=le.fit_transform(y_train)\n",
    "y_test=le.fit_transform(y_test)   #do we need to shorten names and change numbers?\n",
    "\n",
    "\n",
    "\n",
    "\n",
    "#X_train[X_train[\"Culmen Depth (mm)\"]==np.nan] #no nan values in X_train or X_test"
   ]
  },
  {
   "cell_type": "markdown",
   "metadata": {},
   "source": [
    "## Exploratory Analysis"
   ]
  },
  {
   "cell_type": "code",
   "execution_count": 5,
   "metadata": {},
   "outputs": [
    {
     "ename": "AttributeError",
     "evalue": "'numpy.ndarray' object has no attribute 'hist'",
     "output_type": "error",
     "traceback": [
      "\u001b[1;31m---------------------------------------------------------------------------\u001b[0m",
      "\u001b[1;31mAttributeError\u001b[0m                            Traceback (most recent call last)",
      "\u001b[1;32m<ipython-input-5-22497657cf0b>\u001b[0m in \u001b[0;36m<module>\u001b[1;34m\u001b[0m\n\u001b[0;32m      1\u001b[0m \u001b[1;31m#histogram of body mass separated by island\u001b[0m\u001b[1;33m\u001b[0m\u001b[1;33m\u001b[0m\u001b[1;33m\u001b[0m\u001b[0m\n\u001b[0;32m      2\u001b[0m \u001b[0mfig\u001b[0m\u001b[1;33m,\u001b[0m \u001b[0max\u001b[0m \u001b[1;33m=\u001b[0m \u001b[0mplt\u001b[0m\u001b[1;33m.\u001b[0m\u001b[0msubplots\u001b[0m\u001b[1;33m(\u001b[0m\u001b[1;36m3\u001b[0m\u001b[1;33m,\u001b[0m \u001b[1;36m1\u001b[0m\u001b[1;33m)\u001b[0m\u001b[1;33m\u001b[0m\u001b[1;33m\u001b[0m\u001b[0m\n\u001b[1;32m----> 3\u001b[1;33m \u001b[0mpenguins\u001b[0m\u001b[1;33m[\u001b[0m\u001b[1;33m[\u001b[0m\u001b[1;34m\"Body Mass (g)\"\u001b[0m\u001b[1;33m,\u001b[0m \u001b[1;34m\"Island\"\u001b[0m\u001b[1;33m]\u001b[0m\u001b[1;33m]\u001b[0m\u001b[1;33m.\u001b[0m\u001b[0mgroupby\u001b[0m\u001b[1;33m(\u001b[0m\u001b[1;33m[\u001b[0m\u001b[1;34m\"Island\"\u001b[0m\u001b[1;33m]\u001b[0m\u001b[1;33m)\u001b[0m\u001b[1;33m.\u001b[0m\u001b[0mapply\u001b[0m\u001b[1;33m(\u001b[0m\u001b[0max\u001b[0m\u001b[1;33m.\u001b[0m\u001b[0mhist\u001b[0m\u001b[1;33m,\u001b[0m \u001b[0malpha\u001b[0m \u001b[1;33m=\u001b[0m \u001b[1;36m0.5\u001b[0m\u001b[1;33m)\u001b[0m\u001b[1;33m\u001b[0m\u001b[1;33m\u001b[0m\u001b[0m\n\u001b[0m",
      "\u001b[1;31mAttributeError\u001b[0m: 'numpy.ndarray' object has no attribute 'hist'"
     ]
    },
    {
     "data": {
      "image/png": "[encoded data removed]",
      "text/plain": [
       "<Figure size 432x288 with 3 Axes>"
      ]
     },
     "metadata": {
      "needs_background": "light"
     },
     "output_type": "display_data"
    }
   ],
   "source": [
    "#histogram of body mass separated by island\n",
    "fig, ax = plt.subplots(3, 1)\n",
    "penguins[[\"Body Mass (g)\", \"Island\"]].groupby([\"Island\"]).apply(ax.hist, alpha = 0.5)"
   ]
  },
  {
   "cell_type": "code",
   "execution_count": 6,
   "metadata": {},
   "outputs": [
    {
     "data": {
      "text/plain": [
       "<matplotlib.legend.Legend at 0x208d6cac9a0>"
      ]
     },
     "execution_count": 6,
     "metadata": {},
     "output_type": "execute_result"
    },
    {
     "data": {
      "image/png": "[encoded data removed]",
      "text/plain": [
       "<Figure size 432x288 with 1 Axes>"
      ]
     },
     "metadata": {
      "needs_background": "light"
     },
     "output_type": "display_data"
    }
   ],
   "source": [
    "#histogram, body mass of each penguin grouped by island\n",
    "\n",
    "fig,ax = plt.subplots(1)\n",
    "ax.set(xlabel = \"Body Mass (g)\",\n",
    "       ylabel = \"Frequency\")\n",
    "\n",
    "Islands=penguins[\"Island\"].unique()\n",
    "for i in Islands:\n",
    "    test = penguins[penguins[\"Island\"]==i]\n",
    "    ax.hist(test[\"Body Mass (g)\"], alpha = 0.5, label = i)\n",
    "fig\n",
    "ax.legend()"
   ]
  },
  {
   "cell_type": "code",
   "execution_count": 13,
   "metadata": {},
   "outputs": [
    {
     "data": {
      "text/html": [
       "<div>\n",
       "<style scoped>\n",
       "    .dataframe tbody tr th:only-of-type {\n",
       "        vertical-align: middle;\n",
       "    }\n",
       "\n",
       "    .dataframe tbody tr th {\n",
       "        vertical-align: top;\n",
       "    }\n",
       "\n",
       "    .dataframe thead tr th {\n",
       "        text-align: left;\n",
       "    }\n",
       "\n",
       "    .dataframe thead tr:last-of-type th {\n",
       "        text-align: right;\n",
       "    }\n",
       "</style>\n",
       "<table border=\"1\" class=\"dataframe\">\n",
       "  <thead>\n",
       "    <tr>\n",
       "      <th></th>\n",
       "      <th></th>\n",
       "      <th colspan=\"8\" halign=\"left\">Body Mass (g)</th>\n",
       "    </tr>\n",
       "    <tr>\n",
       "      <th></th>\n",
       "      <th></th>\n",
       "      <th>count</th>\n",
       "      <th>mean</th>\n",
       "      <th>std</th>\n",
       "      <th>min</th>\n",
       "      <th>25%</th>\n",
       "      <th>50%</th>\n",
       "      <th>75%</th>\n",
       "      <th>max</th>\n",
       "    </tr>\n",
       "    <tr>\n",
       "      <th>Island</th>\n",
       "      <th>Species</th>\n",
       "      <th></th>\n",
       "      <th></th>\n",
       "      <th></th>\n",
       "      <th></th>\n",
       "      <th></th>\n",
       "      <th></th>\n",
       "      <th></th>\n",
       "      <th></th>\n",
       "    </tr>\n",
       "  </thead>\n",
       "  <tbody>\n",
       "    <tr>\n",
       "      <th rowspan=\"2\" valign=\"top\">Biscoe</th>\n",
       "      <th>Adelie</th>\n",
       "      <td>44.0</td>\n",
       "      <td>3709.659091</td>\n",
       "      <td>487.733722</td>\n",
       "      <td>2850.0</td>\n",
       "      <td>3387.5</td>\n",
       "      <td>3750.0</td>\n",
       "      <td>3975.00</td>\n",
       "      <td>4775.0</td>\n",
       "    </tr>\n",
       "    <tr>\n",
       "      <th>Gentoo</th>\n",
       "      <td>123.0</td>\n",
       "      <td>5076.016260</td>\n",
       "      <td>504.116237</td>\n",
       "      <td>3950.0</td>\n",
       "      <td>4700.0</td>\n",
       "      <td>5000.0</td>\n",
       "      <td>5500.00</td>\n",
       "      <td>6300.0</td>\n",
       "    </tr>\n",
       "    <tr>\n",
       "      <th rowspan=\"2\" valign=\"top\">Dream</th>\n",
       "      <th>Adelie</th>\n",
       "      <td>56.0</td>\n",
       "      <td>3688.392857</td>\n",
       "      <td>455.146437</td>\n",
       "      <td>2900.0</td>\n",
       "      <td>3387.5</td>\n",
       "      <td>3575.0</td>\n",
       "      <td>3981.25</td>\n",
       "      <td>4650.0</td>\n",
       "    </tr>\n",
       "    <tr>\n",
       "      <th>Chinstrap</th>\n",
       "      <td>68.0</td>\n",
       "      <td>3733.088235</td>\n",
       "      <td>384.335081</td>\n",
       "      <td>2700.0</td>\n",
       "      <td>3487.5</td>\n",
       "      <td>3700.0</td>\n",
       "      <td>3950.00</td>\n",
       "      <td>4800.0</td>\n",
       "    </tr>\n",
       "    <tr>\n",
       "      <th>Torgersen</th>\n",
       "      <th>Adelie</th>\n",
       "      <td>51.0</td>\n",
       "      <td>3706.372549</td>\n",
       "      <td>445.107940</td>\n",
       "      <td>2900.0</td>\n",
       "      <td>3337.5</td>\n",
       "      <td>3700.0</td>\n",
       "      <td>4000.00</td>\n",
       "      <td>4700.0</td>\n",
       "    </tr>\n",
       "  </tbody>\n",
       "</table>\n",
       "</div>"
      ],
      "text/plain": [
       "                    Body Mass (g)                                           \\\n",
       "                            count         mean         std     min     25%   \n",
       "Island    Species                                                            \n",
       "Biscoe    Adelie             44.0  3709.659091  487.733722  2850.0  3387.5   \n",
       "          Gentoo            123.0  5076.016260  504.116237  3950.0  4700.0   \n",
       "Dream     Adelie             56.0  3688.392857  455.146437  2900.0  3387.5   \n",
       "          Chinstrap          68.0  3733.088235  384.335081  2700.0  3487.5   \n",
       "Torgersen Adelie             51.0  3706.372549  445.107940  2900.0  3337.5   \n",
       "\n",
       "                                              \n",
       "                        50%      75%     max  \n",
       "Island    Species                             \n",
       "Biscoe    Adelie     3750.0  3975.00  4775.0  \n",
       "          Gentoo     5000.0  5500.00  6300.0  \n",
       "Dream     Adelie     3575.0  3981.25  4650.0  \n",
       "          Chinstrap  3700.0  3950.00  4800.0  \n",
       "Torgersen Adelie     3700.0  4000.00  4700.0  "
      ]
     },
     "execution_count": 13,
     "metadata": {},
     "output_type": "execute_result"
    }
   ],
   "source": [
    "penguins[\"Species\"] = penguins[\"Species\"].str.split().str.get(0)\n",
    "penguins[[\"Body Mass (g)\", \"Island\", \"Species\"]].groupby([\"Island\", \"Species\"]).describe()"
   ]
  },
  {
   "cell_type": "markdown",
   "metadata": {},
   "source": [
    "## Feature Selection"
   ]
  },
  {
   "cell_type": "markdown",
   "metadata": {},
   "source": [
    "## Modeling"
   ]
  },
  {
   "cell_type": "markdown",
   "metadata": {},
   "source": [
    "## Discussion"
   ]
  },
  {
   "cell_type": "code",
   "execution_count": null,
   "metadata": {},
   "outputs": [],
   "source": []
  }
 ],
 "metadata": {
  "kernelspec": {
   "display_name": "Python 3",
   "language": "python",
   "name": "python3"
  },
  "language_info": {
   "codemirror_mode": {
    "name": "ipython",
    "version": 3
   },
   "file_extension": ".py",
   "mimetype": "text/x-python",
   "name": "python",
   "nbconvert_exporter": "python",
   "pygments_lexer": "ipython3",
   "version": "3.8.5"
  }
 },
 "nbformat": 4,
 "nbformat_minor": 5
}
