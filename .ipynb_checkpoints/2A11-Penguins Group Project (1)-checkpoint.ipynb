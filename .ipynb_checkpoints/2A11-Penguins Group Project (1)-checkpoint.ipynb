{
 "cells": [
  {
   "cell_type": "markdown",
   "metadata": {},
   "source": [
    "## Group 2A11\n",
    "- "
   ]
  },
  {
   "cell_type": "markdown",
   "metadata": {},
   "source": [
    "## Group Contributions Statement"
   ]
  },
  {
   "cell_type": "code",
   "execution_count": null,
   "metadata": {},
   "outputs": [],
   "source": []
  },
  {
   "cell_type": "markdown",
   "metadata": {},
   "source": [
    "## Data Import and Cleaning"
   ]
  },
  {
   "cell_type": "code",
   "execution_count": 1,
   "metadata": {},
   "outputs": [
    {
     "data": {
      "text/html": [
       "<div>\n",
       "<style scoped>\n",
       "    .dataframe tbody tr th:only-of-type {\n",
       "        vertical-align: middle;\n",
       "    }\n",
       "\n",
       "    .dataframe tbody tr th {\n",
       "        vertical-align: top;\n",
       "    }\n",
       "\n",
       "    .dataframe thead th {\n",
       "        text-align: right;\n",
       "    }\n",
       "</style>\n",
       "<table border=\"1\" class=\"dataframe\">\n",
       "  <thead>\n",
       "    <tr style=\"text-align: right;\">\n",
       "      <th></th>\n",
       "      <th>Flipper Length (mm)</th>\n",
       "      <th>Culmen Length (mm)</th>\n",
       "      <th>Island</th>\n",
       "    </tr>\n",
       "  </thead>\n",
       "  <tbody>\n",
       "    <tr>\n",
       "      <th>94</th>\n",
       "      <td>187.0</td>\n",
       "      <td>36.2</td>\n",
       "      <td>Dream</td>\n",
       "    </tr>\n",
       "    <tr>\n",
       "      <th>98</th>\n",
       "      <td>178.0</td>\n",
       "      <td>33.1</td>\n",
       "      <td>Dream</td>\n",
       "    </tr>\n",
       "    <tr>\n",
       "      <th>75</th>\n",
       "      <td>195.0</td>\n",
       "      <td>42.8</td>\n",
       "      <td>Torgersen</td>\n",
       "    </tr>\n",
       "    <tr>\n",
       "      <th>227</th>\n",
       "      <td>219.0</td>\n",
       "      <td>46.7</td>\n",
       "      <td>Biscoe</td>\n",
       "    </tr>\n",
       "    <tr>\n",
       "      <th>68</th>\n",
       "      <td>190.0</td>\n",
       "      <td>35.9</td>\n",
       "      <td>Torgersen</td>\n",
       "    </tr>\n",
       "    <tr>\n",
       "      <th>...</th>\n",
       "      <td>...</td>\n",
       "      <td>...</td>\n",
       "      <td>...</td>\n",
       "    </tr>\n",
       "    <tr>\n",
       "      <th>67</th>\n",
       "      <td>188.0</td>\n",
       "      <td>41.1</td>\n",
       "      <td>Biscoe</td>\n",
       "    </tr>\n",
       "    <tr>\n",
       "      <th>338</th>\n",
       "      <td>214.0</td>\n",
       "      <td>47.2</td>\n",
       "      <td>Biscoe</td>\n",
       "    </tr>\n",
       "    <tr>\n",
       "      <th>159</th>\n",
       "      <td>197.0</td>\n",
       "      <td>51.3</td>\n",
       "      <td>Dream</td>\n",
       "    </tr>\n",
       "    <tr>\n",
       "      <th>20</th>\n",
       "      <td>174.0</td>\n",
       "      <td>37.8</td>\n",
       "      <td>Biscoe</td>\n",
       "    </tr>\n",
       "    <tr>\n",
       "      <th>243</th>\n",
       "      <td>215.0</td>\n",
       "      <td>46.3</td>\n",
       "      <td>Biscoe</td>\n",
       "    </tr>\n",
       "  </tbody>\n",
       "</table>\n",
       "<p>273 rows × 3 columns</p>\n",
       "</div>"
      ],
      "text/plain": [
       "     Flipper Length (mm)  Culmen Length (mm)     Island\n",
       "94                 187.0                36.2      Dream\n",
       "98                 178.0                33.1      Dream\n",
       "75                 195.0                42.8  Torgersen\n",
       "227                219.0                46.7     Biscoe\n",
       "68                 190.0                35.9  Torgersen\n",
       "..                   ...                 ...        ...\n",
       "67                 188.0                41.1     Biscoe\n",
       "338                214.0                47.2     Biscoe\n",
       "159                197.0                51.3      Dream\n",
       "20                 174.0                37.8     Biscoe\n",
       "243                215.0                46.3     Biscoe\n",
       "\n",
       "[273 rows x 3 columns]"
      ]
     },
     "execution_count": 1,
     "metadata": {},
     "output_type": "execute_result"
    }
   ],
   "source": [
    "#imports\n",
    "import numpy as np\n",
    "from matplotlib import pyplot as plt\n",
    "import pandas as pd\n",
    "import seaborn as sns\n",
    "from sklearn import preprocessing\n",
    "le=preprocessing.LabelEncoder()\n",
    "from sklearn.model_selection import train_test_split\n",
    "\n",
    "#getting the data\n",
    "url = \"https://philchodrow.github.io/PIC16A/datasets/palmer_penguins.csv\"\n",
    "penguins = pd.read_csv(url)\n",
    "\n",
    "\n",
    "#splitting the data set\n",
    "penguins = penguins[[\"Flipper Length (mm)\", \"Culmen Length (mm)\", \"Island\", \"Species\"]].dropna()\n",
    "X=penguins[[\"Flipper Length (mm)\", \"Culmen Length (mm)\", \"Island\"]]\n",
    "y=penguins[\"Species\"]\n",
    "\n",
    "\n",
    "X_train,X_test=train_test_split(X,test_size=.2)\n",
    "y_train,y_test=train_test_split(y,test_size=.2)\n",
    "\n",
    "X_train"
   ]
  },
  {
   "cell_type": "code",
   "execution_count": 2,
   "metadata": {},
   "outputs": [
    {
     "data": {
      "text/html": [
       "<div>\n",
       "<style scoped>\n",
       "    .dataframe tbody tr th:only-of-type {\n",
       "        vertical-align: middle;\n",
       "    }\n",
       "\n",
       "    .dataframe tbody tr th {\n",
       "        vertical-align: top;\n",
       "    }\n",
       "\n",
       "    .dataframe thead th {\n",
       "        text-align: right;\n",
       "    }\n",
       "</style>\n",
       "<table border=\"1\" class=\"dataframe\">\n",
       "  <thead>\n",
       "    <tr style=\"text-align: right;\">\n",
       "      <th></th>\n",
       "      <th>Flipper Length (mm)</th>\n",
       "      <th>Culmen Length (mm)</th>\n",
       "      <th>Island</th>\n",
       "      <th>Species</th>\n",
       "    </tr>\n",
       "  </thead>\n",
       "  <tbody>\n",
       "    <tr>\n",
       "      <th>0</th>\n",
       "      <td>181.0</td>\n",
       "      <td>39.1</td>\n",
       "      <td>Torgersen</td>\n",
       "      <td>Adelie Penguin (Pygoscelis adeliae)</td>\n",
       "    </tr>\n",
       "    <tr>\n",
       "      <th>1</th>\n",
       "      <td>186.0</td>\n",
       "      <td>39.5</td>\n",
       "      <td>Torgersen</td>\n",
       "      <td>Adelie Penguin (Pygoscelis adeliae)</td>\n",
       "    </tr>\n",
       "    <tr>\n",
       "      <th>2</th>\n",
       "      <td>195.0</td>\n",
       "      <td>40.3</td>\n",
       "      <td>Torgersen</td>\n",
       "      <td>Adelie Penguin (Pygoscelis adeliae)</td>\n",
       "    </tr>\n",
       "    <tr>\n",
       "      <th>4</th>\n",
       "      <td>193.0</td>\n",
       "      <td>36.7</td>\n",
       "      <td>Torgersen</td>\n",
       "      <td>Adelie Penguin (Pygoscelis adeliae)</td>\n",
       "    </tr>\n",
       "    <tr>\n",
       "      <th>5</th>\n",
       "      <td>190.0</td>\n",
       "      <td>39.3</td>\n",
       "      <td>Torgersen</td>\n",
       "      <td>Adelie Penguin (Pygoscelis adeliae)</td>\n",
       "    </tr>\n",
       "    <tr>\n",
       "      <th>...</th>\n",
       "      <td>...</td>\n",
       "      <td>...</td>\n",
       "      <td>...</td>\n",
       "      <td>...</td>\n",
       "    </tr>\n",
       "    <tr>\n",
       "      <th>338</th>\n",
       "      <td>214.0</td>\n",
       "      <td>47.2</td>\n",
       "      <td>Biscoe</td>\n",
       "      <td>Gentoo penguin (Pygoscelis papua)</td>\n",
       "    </tr>\n",
       "    <tr>\n",
       "      <th>340</th>\n",
       "      <td>215.0</td>\n",
       "      <td>46.8</td>\n",
       "      <td>Biscoe</td>\n",
       "      <td>Gentoo penguin (Pygoscelis papua)</td>\n",
       "    </tr>\n",
       "    <tr>\n",
       "      <th>341</th>\n",
       "      <td>222.0</td>\n",
       "      <td>50.4</td>\n",
       "      <td>Biscoe</td>\n",
       "      <td>Gentoo penguin (Pygoscelis papua)</td>\n",
       "    </tr>\n",
       "    <tr>\n",
       "      <th>342</th>\n",
       "      <td>212.0</td>\n",
       "      <td>45.2</td>\n",
       "      <td>Biscoe</td>\n",
       "      <td>Gentoo penguin (Pygoscelis papua)</td>\n",
       "    </tr>\n",
       "    <tr>\n",
       "      <th>343</th>\n",
       "      <td>213.0</td>\n",
       "      <td>49.9</td>\n",
       "      <td>Biscoe</td>\n",
       "      <td>Gentoo penguin (Pygoscelis papua)</td>\n",
       "    </tr>\n",
       "  </tbody>\n",
       "</table>\n",
       "<p>342 rows × 4 columns</p>\n",
       "</div>"
      ],
      "text/plain": [
       "     Flipper Length (mm)  Culmen Length (mm)     Island  \\\n",
       "0                  181.0                39.1  Torgersen   \n",
       "1                  186.0                39.5  Torgersen   \n",
       "2                  195.0                40.3  Torgersen   \n",
       "4                  193.0                36.7  Torgersen   \n",
       "5                  190.0                39.3  Torgersen   \n",
       "..                   ...                 ...        ...   \n",
       "338                214.0                47.2     Biscoe   \n",
       "340                215.0                46.8     Biscoe   \n",
       "341                222.0                50.4     Biscoe   \n",
       "342                212.0                45.2     Biscoe   \n",
       "343                213.0                49.9     Biscoe   \n",
       "\n",
       "                                 Species  \n",
       "0    Adelie Penguin (Pygoscelis adeliae)  \n",
       "1    Adelie Penguin (Pygoscelis adeliae)  \n",
       "2    Adelie Penguin (Pygoscelis adeliae)  \n",
       "4    Adelie Penguin (Pygoscelis adeliae)  \n",
       "5    Adelie Penguin (Pygoscelis adeliae)  \n",
       "..                                   ...  \n",
       "338    Gentoo penguin (Pygoscelis papua)  \n",
       "340    Gentoo penguin (Pygoscelis papua)  \n",
       "341    Gentoo penguin (Pygoscelis papua)  \n",
       "342    Gentoo penguin (Pygoscelis papua)  \n",
       "343    Gentoo penguin (Pygoscelis papua)  \n",
       "\n",
       "[342 rows x 4 columns]"
      ]
     },
     "execution_count": 2,
     "metadata": {},
     "output_type": "execute_result"
    }
   ],
   "source": [
    "#changing species names to numbers\n",
    "y_train=le.fit_transform(y_train)\n",
    "y_test=le.fit_transform(y_test)   #do we need to shorten names and change numbers?\n",
    "\n",
    "penguins\n",
    "#X_train[X_train[\"Culmen Depth (mm)\"]==np.nan] #no nan values in X_train or X_test"
   ]
  },
  {
   "cell_type": "markdown",
   "metadata": {},
   "source": [
    "## Exploratory Analysis"
   ]
  },
  {
   "cell_type": "markdown",
   "metadata": {},
   "source": [
    "### Figure 1. Scatterplot\n",
    "\n",
    "Next we will use a scatterplot to visualize the relationship between Culmen Length and Flipper Length for penguins of different species."
   ]
  },
  {
   "cell_type": "code",
   "execution_count": 3,
   "metadata": {},
   "outputs": [
    {
     "data": {
      "text/plain": [
       "<matplotlib.legend.Legend at 0x137d7edb790>"
      ]
     },
     "execution_count": 3,
     "metadata": {},
     "output_type": "execute_result"
    },
    {
     "data": {
      "image/png": "[encoded data removed]",
      "text/plain": [
       "<Figure size 432x288 with 1 Axes>"
      ]
     },
     "metadata": {
      "needs_background": "light"
     },
     "output_type": "display_data"
    }
   ],
   "source": [
    "fig,ax = plt.subplots(1)\n",
    "ax.set(xlabel=\"Flipper Length (mm)\",\n",
    "       ylabel=\"Culmen Length (mm)\",\n",
    "       title=\"Culmen Length v. Flipper Length by Species\")\n",
    "\n",
    "penguins[\"Species\"]=penguins[\"Species\"].str.split().str.get(0)\n",
    "uniqueSpecies=set(penguins[\"Species\"])\n",
    "for x in uniqueSpecies: \n",
    "    test = penguins[penguins[\"Species\"]==x]\n",
    "    ax.scatter(test[\"Flipper Length (mm)\"],\n",
    "               test[\"Culmen Length (mm)\"], alpha = 0.5, label = x)\n",
    "ax.legend()"
   ]
  },
  {
   "cell_type": "markdown",
   "metadata": {},
   "source": [
    "#### Discussion of figure 2:\n",
    "\n",
    "From our scatterplot, we can see distinct clusters of Gentoo, Chinstrap, Adelie penguins when grouped by culmen length and flipper length. Gentoo penguins tend to have longer flippers and mid-sized culmens, Adelie penguins seem to have the shortest flippers and culmens while Chinstraps have shorter flippers but similar culmen lengths to Gentoo penguins. These distinctions suggest we may want to use these the culmen length and flipper length features as predictor variables for our models. \n",
    "\n",
    "Now that we have identified some distinctions when grouped by species, let's explore further differences when the species are grouped by island. "
   ]
  },
  {
   "cell_type": "markdown",
   "metadata": {},
   "source": [
    "### Figure 2. Faceted Histogram\n",
    "\n",
    "Let’s make another figure to visualize the Culmen Lengths of different species where we split up the plots by species AND island. "
   ]
  },
  {
   "cell_type": "code",
   "execution_count": 4,
   "metadata": {},
   "outputs": [
    {
     "data": {
      "image/png": "[encoded data removed]",
      "text/plain": [
       "<Figure size 732.625x648 with 9 Axes>"
      ]
     },
     "metadata": {
      "needs_background": "light"
     },
     "output_type": "display_data"
    }
   ],
   "source": [
    "#histogram, body mass of each penguin grouped by island and species\n",
    "penguins[\"Species\"] = penguins[\"Species\"].str.split().str.get(0)\n",
    "plot=sns.displot(penguins, \n",
    "                 x=\"Culmen Length (mm)\", \n",
    "                 col=\"Island\", \n",
    "                 row=\"Species\", \n",
    "                 hue = \"Island\", \n",
    "                 facet_kws=dict(margin_titles=True),\n",
    "                 height = 3)\n",
    "#plot.fig.suptitle(\"Culmen Lengths by Island and Species\")"
   ]
  },
  {
   "cell_type": "markdown",
   "metadata": {},
   "source": [
    "#### Discusion of figure 2:\n",
    "\n",
    "From these plots, it seems like Adelie penguins have the shortest culmen's regardless of which Island they are on. The Gentoo penguins on Biscoe island have longer culmen lengths than the Adelie on Biscoe and similarly, Chinstraps on Dream Island have longer culmens than the Adelie on Dream Island. \n",
    "\n",
    "This faceted histogram help us visualize the differences between species on separate islands more clearly. In particular, if we had grouped by only islands, it would have been more difficult to discern that it is the Adelie specifically whom have short culmens. We can also note that Gentoo penguins only exist on Biscoe Island and Chinstraps only exist on Dream."
   ]
  },
  {
   "cell_type": "markdown",
   "metadata": {},
   "source": [
    "### Table\n",
    "\n",
    "Here we have a summary of the information we have on the culmen lengths of each species when grouped by island. "
   ]
  },
  {
   "cell_type": "code",
   "execution_count": 5,
   "metadata": {},
   "outputs": [
    {
     "data": {
      "text/html": [
       "<div>\n",
       "<style scoped>\n",
       "    .dataframe tbody tr th:only-of-type {\n",
       "        vertical-align: middle;\n",
       "    }\n",
       "\n",
       "    .dataframe tbody tr th {\n",
       "        vertical-align: top;\n",
       "    }\n",
       "\n",
       "    .dataframe thead tr th {\n",
       "        text-align: left;\n",
       "    }\n",
       "\n",
       "    .dataframe thead tr:last-of-type th {\n",
       "        text-align: right;\n",
       "    }\n",
       "</style>\n",
       "<table border=\"1\" class=\"dataframe\">\n",
       "  <thead>\n",
       "    <tr>\n",
       "      <th></th>\n",
       "      <th></th>\n",
       "      <th colspan=\"8\" halign=\"left\">Culmen Length (mm)</th>\n",
       "    </tr>\n",
       "    <tr>\n",
       "      <th></th>\n",
       "      <th></th>\n",
       "      <th>count</th>\n",
       "      <th>mean</th>\n",
       "      <th>std</th>\n",
       "      <th>min</th>\n",
       "      <th>25%</th>\n",
       "      <th>50%</th>\n",
       "      <th>75%</th>\n",
       "      <th>max</th>\n",
       "    </tr>\n",
       "    <tr>\n",
       "      <th>Island</th>\n",
       "      <th>Species</th>\n",
       "      <th></th>\n",
       "      <th></th>\n",
       "      <th></th>\n",
       "      <th></th>\n",
       "      <th></th>\n",
       "      <th></th>\n",
       "      <th></th>\n",
       "      <th></th>\n",
       "    </tr>\n",
       "  </thead>\n",
       "  <tbody>\n",
       "    <tr>\n",
       "      <th rowspan=\"2\" valign=\"top\">Biscoe</th>\n",
       "      <th>Adelie</th>\n",
       "      <td>44.0</td>\n",
       "      <td>38.975000</td>\n",
       "      <td>2.480916</td>\n",
       "      <td>34.5</td>\n",
       "      <td>37.675</td>\n",
       "      <td>38.70</td>\n",
       "      <td>40.700</td>\n",
       "      <td>45.6</td>\n",
       "    </tr>\n",
       "    <tr>\n",
       "      <th>Gentoo</th>\n",
       "      <td>123.0</td>\n",
       "      <td>47.504878</td>\n",
       "      <td>3.081857</td>\n",
       "      <td>40.9</td>\n",
       "      <td>45.300</td>\n",
       "      <td>47.30</td>\n",
       "      <td>49.550</td>\n",
       "      <td>59.6</td>\n",
       "    </tr>\n",
       "    <tr>\n",
       "      <th rowspan=\"2\" valign=\"top\">Dream</th>\n",
       "      <th>Adelie</th>\n",
       "      <td>56.0</td>\n",
       "      <td>38.501786</td>\n",
       "      <td>2.465359</td>\n",
       "      <td>32.1</td>\n",
       "      <td>36.750</td>\n",
       "      <td>38.55</td>\n",
       "      <td>40.375</td>\n",
       "      <td>44.1</td>\n",
       "    </tr>\n",
       "    <tr>\n",
       "      <th>Chinstrap</th>\n",
       "      <td>68.0</td>\n",
       "      <td>48.833824</td>\n",
       "      <td>3.339256</td>\n",
       "      <td>40.9</td>\n",
       "      <td>46.350</td>\n",
       "      <td>49.55</td>\n",
       "      <td>51.075</td>\n",
       "      <td>58.0</td>\n",
       "    </tr>\n",
       "    <tr>\n",
       "      <th>Torgersen</th>\n",
       "      <th>Adelie</th>\n",
       "      <td>51.0</td>\n",
       "      <td>38.950980</td>\n",
       "      <td>3.025318</td>\n",
       "      <td>33.5</td>\n",
       "      <td>36.650</td>\n",
       "      <td>38.90</td>\n",
       "      <td>41.100</td>\n",
       "      <td>46.0</td>\n",
       "    </tr>\n",
       "  </tbody>\n",
       "</table>\n",
       "</div>"
      ],
      "text/plain": [
       "                    Culmen Length (mm)                                     \\\n",
       "                                 count       mean       std   min     25%   \n",
       "Island    Species                                                           \n",
       "Biscoe    Adelie                  44.0  38.975000  2.480916  34.5  37.675   \n",
       "          Gentoo                 123.0  47.504878  3.081857  40.9  45.300   \n",
       "Dream     Adelie                  56.0  38.501786  2.465359  32.1  36.750   \n",
       "          Chinstrap               68.0  48.833824  3.339256  40.9  46.350   \n",
       "Torgersen Adelie                  51.0  38.950980  3.025318  33.5  36.650   \n",
       "\n",
       "                                          \n",
       "                       50%     75%   max  \n",
       "Island    Species                         \n",
       "Biscoe    Adelie     38.70  40.700  45.6  \n",
       "          Gentoo     47.30  49.550  59.6  \n",
       "Dream     Adelie     38.55  40.375  44.1  \n",
       "          Chinstrap  49.55  51.075  58.0  \n",
       "Torgersen Adelie     38.90  41.100  46.0  "
      ]
     },
     "execution_count": 5,
     "metadata": {},
     "output_type": "execute_result"
    }
   ],
   "source": [
    "penguins[[\"Culmen Length (mm)\", \"Island\", \"Species\"]].groupby([\"Island\", \"Species\"]).describe()"
   ]
  },
  {
   "cell_type": "markdown",
   "metadata": {},
   "source": [
    "#### Discussion of Table:\n",
    "\n",
    "This table matches our histogram from above and shows us that Adelie penguins live on all three Islands while Gentoo penguins only live on Biscoe Island and Chinstraps only live on Dream Island.\n",
    "\n",
    "These statistic summaries also show us that Adelie penguins have average culmen lengths of around 38-39 (mm) and Gentoo and Chinstraps have average culmen lengths of 47-49 (mm). This gives us a quantitative value we can use to distinguish Adelie penguins. Although Gentoo and Chinstraps have similar culmen lengths, since we know that they exist on separate islands, we can use that information to distinguish between them."
   ]
  },
  {
   "cell_type": "markdown",
   "metadata": {},
   "source": [
    "## Feature Selection"
   ]
  },
  {
   "cell_type": "code",
   "execution_count": null,
   "metadata": {},
   "outputs": [],
   "source": []
  },
  {
   "cell_type": "markdown",
   "metadata": {},
   "source": [
    "## Modeling"
   ]
  },
  {
   "cell_type": "markdown",
   "metadata": {},
   "source": [
    "## Discussion"
   ]
  },
  {
   "cell_type": "code",
   "execution_count": 14,
   "metadata": {},
   "outputs": [
    {
     "data": {
      "image/png": "[encoded data removed]",
      "text/plain": [
       "<Figure size 432x288 with 1 Axes>"
      ]
     },
     "metadata": {
      "needs_background": "light"
     },
     "output_type": "display_data"
    }
   ],
   "source": [
    "def plot_regions(c,X,y):\n",
    "    c.fit(X,y)\n",
    "\n",
    "    x0=X[\"Flipper Length (mm)\"]\n",
    "    x1=X[\"Culmen Length (mm)\"]\n",
    "\n",
    "    grid_x=np.linspace(x0.min(),x0.max(),501) \n",
    "    grid_y=np.linspace(x1.min(),x1.max(),501) \n",
    "\n",
    "    xx,yy=np.meshgrid(grid_x,grid_y)\n",
    "    np.shape(xx),np.shape(yy)\n",
    "\n",
    "    XX=xx.ravel()\n",
    "    YY=yy.ravel()\n",
    "    \n",
    "    #np.shape(np.c_[XX,YY])\n",
    "\n",
    "    p=c.predict(np.c_[XX,YY])\n",
    "    \n",
    "    p=p.reshape(xx.shape)\n",
    "\n",
    "    fig,ax=plt.subplots(1)\n",
    "\n",
    "    #plot the decision regions\n",
    "    ax.contourf(xx,yy,p,cmap=\"jet\",alpha=.2)\n",
    "\n",
    "    ax.scatter(x0,x1,c=y,cmap=\"jet\")\n",
    "\n",
    "    ax.set(xlabel=\"Flipper Length (mm)\",ylabel=\"Culmen Length (mm)\")\n",
    "\n",
    "#IN your projects you will need to, e.g., make three different decisions regions \n",
    "#one for each island / sex\n",
    "\n",
    "\n",
    "#DONT split the data up first by island and then train three different models\n",
    "\n",
    "#DO train a single model on all of the penguins and then split up the data and make three separate pictures\n",
    "\n",
    "#THis is tricky. it might help to make a dictionary similar to problem 1 of hw6\n",
    "\n",
    "from sklearn import tree\n",
    "from sklearn.linear_model import LogisticRegression\n",
    "\n",
    "LR=LogisticRegression()\n",
    "plot_regions(LR,X_train[[\"Flipper Length (mm)\", \"Culmen Length (mm)\"]],y_train)\n"
   ]
  },
  {
   "cell_type": "code",
   "execution_count": null,
   "metadata": {},
   "outputs": [],
   "source": []
  }
 ],
 "metadata": {
  "kernelspec": {
   "display_name": "Python 3",
   "language": "python",
   "name": "python3"
  },
  "language_info": {
   "codemirror_mode": {
    "name": "ipython",
    "version": 3
   },
   "file_extension": ".py",
   "mimetype": "text/x-python",
   "name": "python",
   "nbconvert_exporter": "python",
   "pygments_lexer": "ipython3",
   "version": "3.8.5"
  }
 },
 "nbformat": 4,
 "nbformat_minor": 5
}
